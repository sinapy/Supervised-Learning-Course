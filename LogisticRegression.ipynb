{
  "nbformat": 4,
  "nbformat_minor": 0,
  "metadata": {
    "colab": {
      "provenance": [],
      "authorship_tag": "ABX9TyMUjucyuEyPKYJJQiibPiWb",
      "include_colab_link": true
    },
    "kernelspec": {
      "name": "python3",
      "display_name": "Python 3"
    },
    "language_info": {
      "name": "python"
    }
  },
  "cells": [
    {
      "cell_type": "markdown",
      "metadata": {
        "id": "view-in-github",
        "colab_type": "text"
      },
      "source": [
        "<a href=\"https://colab.research.google.com/github/sinapy/Supervised-Learning-Course/blob/main/LogisticRegression.ipynb\" target=\"_parent\"><img src=\"https://colab.research.google.com/assets/colab-badge.svg\" alt=\"Open In Colab\"/></a>"
      ]
    },
    {
      "cell_type": "code",
      "execution_count": 195,
      "metadata": {
        "id": "t6Dn6SGCBafV"
      },
      "outputs": [],
      "source": [
        "import numpy as np"
      ]
    },
    {
      "cell_type": "code",
      "source": [
        "from matplotlib import pyplot as plt"
      ],
      "metadata": {
        "id": "w2UTLbJKBcSx"
      },
      "execution_count": 196,
      "outputs": []
    },
    {
      "cell_type": "code",
      "source": [
        "from sklearn import datasets"
      ],
      "metadata": {
        "id": "lsA9tWNzBnRW"
      },
      "execution_count": 197,
      "outputs": []
    },
    {
      "cell_type": "code",
      "source": [
        "iris = datasets.load_iris()"
      ],
      "metadata": {
        "id": "-XWLaaCEBqe2"
      },
      "execution_count": 198,
      "outputs": []
    },
    {
      "cell_type": "code",
      "source": [
        "dir(iris)"
      ],
      "metadata": {
        "colab": {
          "base_uri": "https://localhost:8080/"
        },
        "id": "CXZXUamBB25-",
        "outputId": "4469d3a6-9fb5-4309-9c03-e637d4702823"
      },
      "execution_count": 199,
      "outputs": [
        {
          "output_type": "execute_result",
          "data": {
            "text/plain": [
              "['DESCR',\n",
              " 'data',\n",
              " 'data_module',\n",
              " 'feature_names',\n",
              " 'filename',\n",
              " 'frame',\n",
              " 'target',\n",
              " 'target_names']"
            ]
          },
          "metadata": {},
          "execution_count": 199
        }
      ]
    },
    {
      "cell_type": "code",
      "source": [
        "iris['feature_names']"
      ],
      "metadata": {
        "colab": {
          "base_uri": "https://localhost:8080/"
        },
        "id": "VkckvL2_CBLW",
        "outputId": "b2f5bd7c-a367-4e1f-813e-fc5008d10dc2"
      },
      "execution_count": 200,
      "outputs": [
        {
          "output_type": "execute_result",
          "data": {
            "text/plain": [
              "['sepal length (cm)',\n",
              " 'sepal width (cm)',\n",
              " 'petal length (cm)',\n",
              " 'petal width (cm)']"
            ]
          },
          "metadata": {},
          "execution_count": 200
        }
      ]
    },
    {
      "cell_type": "code",
      "source": [
        "iris['target_names']"
      ],
      "metadata": {
        "colab": {
          "base_uri": "https://localhost:8080/"
        },
        "id": "16HLxmozCEG_",
        "outputId": "61906f4d-390f-4b2a-a91e-34468cda4d90"
      },
      "execution_count": 201,
      "outputs": [
        {
          "output_type": "execute_result",
          "data": {
            "text/plain": [
              "array(['setosa', 'versicolor', 'virginica'], dtype='<U10')"
            ]
          },
          "metadata": {},
          "execution_count": 201
        }
      ]
    },
    {
      "cell_type": "code",
      "source": [
        "type(iris)"
      ],
      "metadata": {
        "colab": {
          "base_uri": "https://localhost:8080/"
        },
        "id": "9ho_Y12yCaYe",
        "outputId": "b8c12449-524d-419e-912c-b0a9684a7619"
      },
      "execution_count": 202,
      "outputs": [
        {
          "output_type": "execute_result",
          "data": {
            "text/plain": [
              "sklearn.utils.Bunch"
            ]
          },
          "metadata": {},
          "execution_count": 202
        }
      ]
    },
    {
      "cell_type": "code",
      "source": [
        "x = iris.data\n",
        "y = iris.target"
      ],
      "metadata": {
        "id": "xL7A2Tn6CkBc"
      },
      "execution_count": 203,
      "outputs": []
    },
    {
      "cell_type": "code",
      "source": [
        "print(x)"
      ],
      "metadata": {
        "colab": {
          "base_uri": "https://localhost:8080/"
        },
        "id": "ZGEhTR4aCuK1",
        "outputId": "a0191c85-f220-487a-db92-97d03266c1a4"
      },
      "execution_count": 204,
      "outputs": [
        {
          "output_type": "stream",
          "name": "stdout",
          "text": [
            "[[5.1 3.5 1.4 0.2]\n",
            " [4.9 3.  1.4 0.2]\n",
            " [4.7 3.2 1.3 0.2]\n",
            " [4.6 3.1 1.5 0.2]\n",
            " [5.  3.6 1.4 0.2]\n",
            " [5.4 3.9 1.7 0.4]\n",
            " [4.6 3.4 1.4 0.3]\n",
            " [5.  3.4 1.5 0.2]\n",
            " [4.4 2.9 1.4 0.2]\n",
            " [4.9 3.1 1.5 0.1]\n",
            " [5.4 3.7 1.5 0.2]\n",
            " [4.8 3.4 1.6 0.2]\n",
            " [4.8 3.  1.4 0.1]\n",
            " [4.3 3.  1.1 0.1]\n",
            " [5.8 4.  1.2 0.2]\n",
            " [5.7 4.4 1.5 0.4]\n",
            " [5.4 3.9 1.3 0.4]\n",
            " [5.1 3.5 1.4 0.3]\n",
            " [5.7 3.8 1.7 0.3]\n",
            " [5.1 3.8 1.5 0.3]\n",
            " [5.4 3.4 1.7 0.2]\n",
            " [5.1 3.7 1.5 0.4]\n",
            " [4.6 3.6 1.  0.2]\n",
            " [5.1 3.3 1.7 0.5]\n",
            " [4.8 3.4 1.9 0.2]\n",
            " [5.  3.  1.6 0.2]\n",
            " [5.  3.4 1.6 0.4]\n",
            " [5.2 3.5 1.5 0.2]\n",
            " [5.2 3.4 1.4 0.2]\n",
            " [4.7 3.2 1.6 0.2]\n",
            " [4.8 3.1 1.6 0.2]\n",
            " [5.4 3.4 1.5 0.4]\n",
            " [5.2 4.1 1.5 0.1]\n",
            " [5.5 4.2 1.4 0.2]\n",
            " [4.9 3.1 1.5 0.2]\n",
            " [5.  3.2 1.2 0.2]\n",
            " [5.5 3.5 1.3 0.2]\n",
            " [4.9 3.6 1.4 0.1]\n",
            " [4.4 3.  1.3 0.2]\n",
            " [5.1 3.4 1.5 0.2]\n",
            " [5.  3.5 1.3 0.3]\n",
            " [4.5 2.3 1.3 0.3]\n",
            " [4.4 3.2 1.3 0.2]\n",
            " [5.  3.5 1.6 0.6]\n",
            " [5.1 3.8 1.9 0.4]\n",
            " [4.8 3.  1.4 0.3]\n",
            " [5.1 3.8 1.6 0.2]\n",
            " [4.6 3.2 1.4 0.2]\n",
            " [5.3 3.7 1.5 0.2]\n",
            " [5.  3.3 1.4 0.2]\n",
            " [7.  3.2 4.7 1.4]\n",
            " [6.4 3.2 4.5 1.5]\n",
            " [6.9 3.1 4.9 1.5]\n",
            " [5.5 2.3 4.  1.3]\n",
            " [6.5 2.8 4.6 1.5]\n",
            " [5.7 2.8 4.5 1.3]\n",
            " [6.3 3.3 4.7 1.6]\n",
            " [4.9 2.4 3.3 1. ]\n",
            " [6.6 2.9 4.6 1.3]\n",
            " [5.2 2.7 3.9 1.4]\n",
            " [5.  2.  3.5 1. ]\n",
            " [5.9 3.  4.2 1.5]\n",
            " [6.  2.2 4.  1. ]\n",
            " [6.1 2.9 4.7 1.4]\n",
            " [5.6 2.9 3.6 1.3]\n",
            " [6.7 3.1 4.4 1.4]\n",
            " [5.6 3.  4.5 1.5]\n",
            " [5.8 2.7 4.1 1. ]\n",
            " [6.2 2.2 4.5 1.5]\n",
            " [5.6 2.5 3.9 1.1]\n",
            " [5.9 3.2 4.8 1.8]\n",
            " [6.1 2.8 4.  1.3]\n",
            " [6.3 2.5 4.9 1.5]\n",
            " [6.1 2.8 4.7 1.2]\n",
            " [6.4 2.9 4.3 1.3]\n",
            " [6.6 3.  4.4 1.4]\n",
            " [6.8 2.8 4.8 1.4]\n",
            " [6.7 3.  5.  1.7]\n",
            " [6.  2.9 4.5 1.5]\n",
            " [5.7 2.6 3.5 1. ]\n",
            " [5.5 2.4 3.8 1.1]\n",
            " [5.5 2.4 3.7 1. ]\n",
            " [5.8 2.7 3.9 1.2]\n",
            " [6.  2.7 5.1 1.6]\n",
            " [5.4 3.  4.5 1.5]\n",
            " [6.  3.4 4.5 1.6]\n",
            " [6.7 3.1 4.7 1.5]\n",
            " [6.3 2.3 4.4 1.3]\n",
            " [5.6 3.  4.1 1.3]\n",
            " [5.5 2.5 4.  1.3]\n",
            " [5.5 2.6 4.4 1.2]\n",
            " [6.1 3.  4.6 1.4]\n",
            " [5.8 2.6 4.  1.2]\n",
            " [5.  2.3 3.3 1. ]\n",
            " [5.6 2.7 4.2 1.3]\n",
            " [5.7 3.  4.2 1.2]\n",
            " [5.7 2.9 4.2 1.3]\n",
            " [6.2 2.9 4.3 1.3]\n",
            " [5.1 2.5 3.  1.1]\n",
            " [5.7 2.8 4.1 1.3]\n",
            " [6.3 3.3 6.  2.5]\n",
            " [5.8 2.7 5.1 1.9]\n",
            " [7.1 3.  5.9 2.1]\n",
            " [6.3 2.9 5.6 1.8]\n",
            " [6.5 3.  5.8 2.2]\n",
            " [7.6 3.  6.6 2.1]\n",
            " [4.9 2.5 4.5 1.7]\n",
            " [7.3 2.9 6.3 1.8]\n",
            " [6.7 2.5 5.8 1.8]\n",
            " [7.2 3.6 6.1 2.5]\n",
            " [6.5 3.2 5.1 2. ]\n",
            " [6.4 2.7 5.3 1.9]\n",
            " [6.8 3.  5.5 2.1]\n",
            " [5.7 2.5 5.  2. ]\n",
            " [5.8 2.8 5.1 2.4]\n",
            " [6.4 3.2 5.3 2.3]\n",
            " [6.5 3.  5.5 1.8]\n",
            " [7.7 3.8 6.7 2.2]\n",
            " [7.7 2.6 6.9 2.3]\n",
            " [6.  2.2 5.  1.5]\n",
            " [6.9 3.2 5.7 2.3]\n",
            " [5.6 2.8 4.9 2. ]\n",
            " [7.7 2.8 6.7 2. ]\n",
            " [6.3 2.7 4.9 1.8]\n",
            " [6.7 3.3 5.7 2.1]\n",
            " [7.2 3.2 6.  1.8]\n",
            " [6.2 2.8 4.8 1.8]\n",
            " [6.1 3.  4.9 1.8]\n",
            " [6.4 2.8 5.6 2.1]\n",
            " [7.2 3.  5.8 1.6]\n",
            " [7.4 2.8 6.1 1.9]\n",
            " [7.9 3.8 6.4 2. ]\n",
            " [6.4 2.8 5.6 2.2]\n",
            " [6.3 2.8 5.1 1.5]\n",
            " [6.1 2.6 5.6 1.4]\n",
            " [7.7 3.  6.1 2.3]\n",
            " [6.3 3.4 5.6 2.4]\n",
            " [6.4 3.1 5.5 1.8]\n",
            " [6.  3.  4.8 1.8]\n",
            " [6.9 3.1 5.4 2.1]\n",
            " [6.7 3.1 5.6 2.4]\n",
            " [6.9 3.1 5.1 2.3]\n",
            " [5.8 2.7 5.1 1.9]\n",
            " [6.8 3.2 5.9 2.3]\n",
            " [6.7 3.3 5.7 2.5]\n",
            " [6.7 3.  5.2 2.3]\n",
            " [6.3 2.5 5.  1.9]\n",
            " [6.5 3.  5.2 2. ]\n",
            " [6.2 3.4 5.4 2.3]\n",
            " [5.9 3.  5.1 1.8]]\n"
          ]
        }
      ]
    },
    {
      "cell_type": "code",
      "source": [
        "print(y)"
      ],
      "metadata": {
        "colab": {
          "base_uri": "https://localhost:8080/"
        },
        "id": "dSfTBPGpCvix",
        "outputId": "e63479b7-24ce-4965-8354-6e24ca1e54bd"
      },
      "execution_count": 205,
      "outputs": [
        {
          "output_type": "stream",
          "name": "stdout",
          "text": [
            "[0 0 0 0 0 0 0 0 0 0 0 0 0 0 0 0 0 0 0 0 0 0 0 0 0 0 0 0 0 0 0 0 0 0 0 0 0\n",
            " 0 0 0 0 0 0 0 0 0 0 0 0 0 1 1 1 1 1 1 1 1 1 1 1 1 1 1 1 1 1 1 1 1 1 1 1 1\n",
            " 1 1 1 1 1 1 1 1 1 1 1 1 1 1 1 1 1 1 1 1 1 1 1 1 1 1 2 2 2 2 2 2 2 2 2 2 2\n",
            " 2 2 2 2 2 2 2 2 2 2 2 2 2 2 2 2 2 2 2 2 2 2 2 2 2 2 2 2 2 2 2 2 2 2 2 2 2\n",
            " 2 2]\n"
          ]
        }
      ]
    },
    {
      "cell_type": "code",
      "source": [
        "plt.scatter(x[:, 2], x[:, 3], c=y) #, cmap='rainbow')\n",
        "plt.show()"
      ],
      "metadata": {
        "colab": {
          "base_uri": "https://localhost:8080/",
          "height": 265
        },
        "id": "2pLYyQ4BCxPk",
        "outputId": "26d085fa-39a7-40e9-e6d7-b031b95fe7be"
      },
      "execution_count": 206,
      "outputs": [
        {
          "output_type": "display_data",
          "data": {
            "text/plain": [
              "<Figure size 432x288 with 1 Axes>"
            ],
            "image/png": "[encoded data removed]"
          },
          "metadata": {
            "needs_background": "light"
          }
        }
      ]
    },
    {
      "cell_type": "code",
      "source": [
        "x = x[:, 3:]"
      ],
      "metadata": {
        "id": "Y6k2kPydDJcr"
      },
      "execution_count": 207,
      "outputs": []
    },
    {
      "cell_type": "code",
      "source": [
        "x"
      ],
      "metadata": {
        "colab": {
          "base_uri": "https://localhost:8080/"
        },
        "id": "7LEQGeNKECaq",
        "outputId": "d005916b-52d4-49f3-f7a7-73e0564160a7"
      },
      "execution_count": 208,
      "outputs": [
        {
          "output_type": "execute_result",
          "data": {
            "text/plain": [
              "array([[0.2],\n",
              "       [0.2],\n",
              "       [0.2],\n",
              "       [0.2],\n",
              "       [0.2],\n",
              "       [0.4],\n",
              "       [0.3],\n",
              "       [0.2],\n",
              "       [0.2],\n",
              "       [0.1],\n",
              "       [0.2],\n",
              "       [0.2],\n",
              "       [0.1],\n",
              "       [0.1],\n",
              "       [0.2],\n",
              "       [0.4],\n",
              "       [0.4],\n",
              "       [0.3],\n",
              "       [0.3],\n",
              "       [0.3],\n",
              "       [0.2],\n",
              "       [0.4],\n",
              "       [0.2],\n",
              "       [0.5],\n",
              "       [0.2],\n",
              "       [0.2],\n",
              "       [0.4],\n",
              "       [0.2],\n",
              "       [0.2],\n",
              "       [0.2],\n",
              "       [0.2],\n",
              "       [0.4],\n",
              "       [0.1],\n",
              "       [0.2],\n",
              "       [0.2],\n",
              "       [0.2],\n",
              "       [0.2],\n",
              "       [0.1],\n",
              "       [0.2],\n",
              "       [0.2],\n",
              "       [0.3],\n",
              "       [0.3],\n",
              "       [0.2],\n",
              "       [0.6],\n",
              "       [0.4],\n",
              "       [0.3],\n",
              "       [0.2],\n",
              "       [0.2],\n",
              "       [0.2],\n",
              "       [0.2],\n",
              "       [1.4],\n",
              "       [1.5],\n",
              "       [1.5],\n",
              "       [1.3],\n",
              "       [1.5],\n",
              "       [1.3],\n",
              "       [1.6],\n",
              "       [1. ],\n",
              "       [1.3],\n",
              "       [1.4],\n",
              "       [1. ],\n",
              "       [1.5],\n",
              "       [1. ],\n",
              "       [1.4],\n",
              "       [1.3],\n",
              "       [1.4],\n",
              "       [1.5],\n",
              "       [1. ],\n",
              "       [1.5],\n",
              "       [1.1],\n",
              "       [1.8],\n",
              "       [1.3],\n",
              "       [1.5],\n",
              "       [1.2],\n",
              "       [1.3],\n",
              "       [1.4],\n",
              "       [1.4],\n",
              "       [1.7],\n",
              "       [1.5],\n",
              "       [1. ],\n",
              "       [1.1],\n",
              "       [1. ],\n",
              "       [1.2],\n",
              "       [1.6],\n",
              "       [1.5],\n",
              "       [1.6],\n",
              "       [1.5],\n",
              "       [1.3],\n",
              "       [1.3],\n",
              "       [1.3],\n",
              "       [1.2],\n",
              "       [1.4],\n",
              "       [1.2],\n",
              "       [1. ],\n",
              "       [1.3],\n",
              "       [1.2],\n",
              "       [1.3],\n",
              "       [1.3],\n",
              "       [1.1],\n",
              "       [1.3],\n",
              "       [2.5],\n",
              "       [1.9],\n",
              "       [2.1],\n",
              "       [1.8],\n",
              "       [2.2],\n",
              "       [2.1],\n",
              "       [1.7],\n",
              "       [1.8],\n",
              "       [1.8],\n",
              "       [2.5],\n",
              "       [2. ],\n",
              "       [1.9],\n",
              "       [2.1],\n",
              "       [2. ],\n",
              "       [2.4],\n",
              "       [2.3],\n",
              "       [1.8],\n",
              "       [2.2],\n",
              "       [2.3],\n",
              "       [1.5],\n",
              "       [2.3],\n",
              "       [2. ],\n",
              "       [2. ],\n",
              "       [1.8],\n",
              "       [2.1],\n",
              "       [1.8],\n",
              "       [1.8],\n",
              "       [1.8],\n",
              "       [2.1],\n",
              "       [1.6],\n",
              "       [1.9],\n",
              "       [2. ],\n",
              "       [2.2],\n",
              "       [1.5],\n",
              "       [1.4],\n",
              "       [2.3],\n",
              "       [2.4],\n",
              "       [1.8],\n",
              "       [1.8],\n",
              "       [2.1],\n",
              "       [2.4],\n",
              "       [2.3],\n",
              "       [1.9],\n",
              "       [2.3],\n",
              "       [2.5],\n",
              "       [2.3],\n",
              "       [1.9],\n",
              "       [2. ],\n",
              "       [2.3],\n",
              "       [1.8]])"
            ]
          },
          "metadata": {},
          "execution_count": 208
        }
      ]
    },
    {
      "cell_type": "code",
      "source": [
        "max(x)"
      ],
      "metadata": {
        "colab": {
          "base_uri": "https://localhost:8080/"
        },
        "id": "2IjnZDTgEC6o",
        "outputId": "55438187-c58c-4676-a4ef-b4092b4f4612"
      },
      "execution_count": 209,
      "outputs": [
        {
          "output_type": "execute_result",
          "data": {
            "text/plain": [
              "array([2.5])"
            ]
          },
          "metadata": {},
          "execution_count": 209
        }
      ]
    },
    {
      "cell_type": "code",
      "source": [
        "min(x)"
      ],
      "metadata": {
        "colab": {
          "base_uri": "https://localhost:8080/"
        },
        "id": "oliNZtLNEW3O",
        "outputId": "7e4e94fb-eb76-4fa2-b64c-2bf6aad71582"
      },
      "execution_count": 210,
      "outputs": [
        {
          "output_type": "execute_result",
          "data": {
            "text/plain": [
              "array([0.1])"
            ]
          },
          "metadata": {},
          "execution_count": 210
        }
      ]
    },
    {
      "cell_type": "code",
      "source": [
        "y = (iris['target']==2) # 2 is virginica (the class)"
      ],
      "metadata": {
        "id": "i_qibRSqEX6p"
      },
      "execution_count": 211,
      "outputs": []
    },
    {
      "cell_type": "code",
      "source": [
        "y"
      ],
      "metadata": {
        "colab": {
          "base_uri": "https://localhost:8080/"
        },
        "id": "8XQkbX0lEi2D",
        "outputId": "a06a0806-9499-4d7c-8167-5847791119ce"
      },
      "execution_count": 212,
      "outputs": [
        {
          "output_type": "execute_result",
          "data": {
            "text/plain": [
              "array([False, False, False, False, False, False, False, False, False,\n",
              "       False, False, False, False, False, False, False, False, False,\n",
              "       False, False, False, False, False, False, False, False, False,\n",
              "       False, False, False, False, False, False, False, False, False,\n",
              "       False, False, False, False, False, False, False, False, False,\n",
              "       False, False, False, False, False, False, False, False, False,\n",
              "       False, False, False, False, False, False, False, False, False,\n",
              "       False, False, False, False, False, False, False, False, False,\n",
              "       False, False, False, False, False, False, False, False, False,\n",
              "       False, False, False, False, False, False, False, False, False,\n",
              "       False, False, False, False, False, False, False, False, False,\n",
              "       False,  True,  True,  True,  True,  True,  True,  True,  True,\n",
              "        True,  True,  True,  True,  True,  True,  True,  True,  True,\n",
              "        True,  True,  True,  True,  True,  True,  True,  True,  True,\n",
              "        True,  True,  True,  True,  True,  True,  True,  True,  True,\n",
              "        True,  True,  True,  True,  True,  True,  True,  True,  True,\n",
              "        True,  True,  True,  True,  True,  True])"
            ]
          },
          "metadata": {},
          "execution_count": 212
        }
      ]
    },
    {
      "cell_type": "code",
      "source": [
        "y = y.astype(int)"
      ],
      "metadata": {
        "id": "OUsp0Je-Ejyl"
      },
      "execution_count": 213,
      "outputs": []
    },
    {
      "cell_type": "code",
      "source": [
        "from sklearn.linear_model import LogisticRegression"
      ],
      "metadata": {
        "id": "ubgB6ynuEq9e"
      },
      "execution_count": 214,
      "outputs": []
    },
    {
      "cell_type": "code",
      "source": [
        "log_reg = LogisticRegression(solver='lbfgs', random_state=98)"
      ],
      "metadata": {
        "id": "iHjKkdYWErle"
      },
      "execution_count": 215,
      "outputs": []
    },
    {
      "cell_type": "code",
      "source": [
        "log_reg.fit(x,y) # x is petal width"
      ],
      "metadata": {
        "colab": {
          "base_uri": "https://localhost:8080/"
        },
        "id": "IcxB6rkkFtpD",
        "outputId": "135f8735-72ef-4d79-abf4-ccb48b44aa34"
      },
      "execution_count": 216,
      "outputs": [
        {
          "output_type": "execute_result",
          "data": {
            "text/plain": [
              "LogisticRegression(random_state=98)"
            ]
          },
          "metadata": {},
          "execution_count": 216
        }
      ]
    },
    {
      "cell_type": "code",
      "source": [
        "x_new = np.linspace(0,3,500).reshape(-1,1)"
      ],
      "metadata": {
        "id": "aoXDqqfVFvKD"
      },
      "execution_count": 217,
      "outputs": []
    },
    {
      "cell_type": "code",
      "source": [
        "#x_new"
      ],
      "metadata": {
        "id": "Prj8Uzh1GEjr"
      },
      "execution_count": 218,
      "outputs": []
    },
    {
      "cell_type": "code",
      "source": [
        "y_proba = log_reg.predict_proba(x_new) #.predict() will show you what is the final classification. .predict_proba will show the probablity for all the classes"
      ],
      "metadata": {
        "id": "TG5og1HcGINF"
      },
      "execution_count": 219,
      "outputs": []
    },
    {
      "cell_type": "code",
      "source": [
        "y_proba"
      ],
      "metadata": {
        "colab": {
          "base_uri": "https://localhost:8080/"
        },
        "id": "rEVx_waKGciW",
        "outputId": "ff9c0278-3e22-48bd-96c3-2daeb4c06416"
      },
      "execution_count": 220,
      "outputs": [
        {
          "output_type": "execute_result",
          "data": {
            "text/plain": [
              "array([[9.99250016e-01, 7.49984089e-04],\n",
              "       [9.99230237e-01, 7.69763100e-04],\n",
              "       [9.99209937e-01, 7.90063323e-04],\n",
              "       [9.99189102e-01, 8.10898470e-04],\n",
              "       [9.99167717e-01, 8.32282613e-04],\n",
              "       [9.99145770e-01, 8.54230194e-04],\n",
              "       [9.99123244e-01, 8.76756032e-04],\n",
              "       [9.99100125e-01, 8.99875335e-04],\n",
              "       [9.99076396e-01, 9.23603712e-04],\n",
              "       [9.99052043e-01, 9.47957177e-04],\n",
              "       [9.99027048e-01, 9.72952165e-04],\n",
              "       [9.99001394e-01, 9.98605543e-04],\n",
              "       [9.98975065e-01, 1.02493462e-03],\n",
              "       [9.98948043e-01, 1.05195715e-03],\n",
              "       [9.98920309e-01, 1.07969136e-03],\n",
              "       [9.98891844e-01, 1.10815596e-03],\n",
              "       [9.98862630e-01, 1.13737014e-03],\n",
              "       [9.98832646e-01, 1.16735358e-03],\n",
              "       [9.98801873e-01, 1.19812651e-03],\n",
              "       [9.98770290e-01, 1.22970964e-03],\n",
              "       [9.98737876e-01, 1.26212427e-03],\n",
              "       [9.98704608e-01, 1.29539223e-03],\n",
              "       [9.98670464e-01, 1.32953592e-03],\n",
              "       [9.98635422e-01, 1.36457834e-03],\n",
              "       [9.98599457e-01, 1.40054306e-03],\n",
              "       [9.98562546e-01, 1.43745431e-03],\n",
              "       [9.98524663e-01, 1.47533691e-03],\n",
              "       [9.98485784e-01, 1.51421636e-03],\n",
              "       [9.98445881e-01, 1.55411880e-03],\n",
              "       [9.98404929e-01, 1.59507106e-03],\n",
              "       [9.98362899e-01, 1.63710068e-03],\n",
              "       [9.98319764e-01, 1.68023590e-03],\n",
              "       [9.98275494e-01, 1.72450571e-03],\n",
              "       [9.98230060e-01, 1.76993984e-03],\n",
              "       [9.98183431e-01, 1.81656882e-03],\n",
              "       [9.98135576e-01, 1.86442393e-03],\n",
              "       [9.98086463e-01, 1.91353731e-03],\n",
              "       [9.98036058e-01, 1.96394191e-03],\n",
              "       [9.97984328e-01, 2.01567153e-03],\n",
              "       [9.97931239e-01, 2.06876087e-03],\n",
              "       [9.97876754e-01, 2.12324553e-03],\n",
              "       [9.97820838e-01, 2.17916200e-03],\n",
              "       [9.97763452e-01, 2.23654775e-03],\n",
              "       [9.97704559e-01, 2.29544122e-03],\n",
              "       [9.97644118e-01, 2.35588182e-03],\n",
              "       [9.97582090e-01, 2.41791001e-03],\n",
              "       [9.97518433e-01, 2.48156729e-03],\n",
              "       [9.97453104e-01, 2.54689621e-03],\n",
              "       [9.97386060e-01, 2.61394046e-03],\n",
              "       [9.97317255e-01, 2.68274482e-03],\n",
              "       [9.97246645e-01, 2.75335527e-03],\n",
              "       [9.97174181e-01, 2.82581892e-03],\n",
              "       [9.97099816e-01, 2.90018416e-03],\n",
              "       [9.97023499e-01, 2.97650057e-03],\n",
              "       [9.96945181e-01, 3.05481904e-03],\n",
              "       [9.96864808e-01, 3.13519178e-03],\n",
              "       [9.96782328e-01, 3.21767230e-03],\n",
              "       [9.96697684e-01, 3.30231553e-03],\n",
              "       [9.96610822e-01, 3.38917780e-03],\n",
              "       [9.96521683e-01, 3.47831686e-03],\n",
              "       [9.96430208e-01, 3.56979198e-03],\n",
              "       [9.96336336e-01, 3.66366394e-03],\n",
              "       [9.96240005e-01, 3.75999505e-03],\n",
              "       [9.96141151e-01, 3.85884925e-03],\n",
              "       [9.96039708e-01, 3.96029210e-03],\n",
              "       [9.95935609e-01, 4.06439084e-03],\n",
              "       [9.95828786e-01, 4.17121441e-03],\n",
              "       [9.95719166e-01, 4.28083355e-03],\n",
              "       [9.95606679e-01, 4.39332075e-03],\n",
              "       [9.95491250e-01, 4.50875039e-03],\n",
              "       [9.95372801e-01, 4.62719872e-03],\n",
              "       [9.95251256e-01, 4.74874393e-03],\n",
              "       [9.95126534e-01, 4.87346621e-03],\n",
              "       [9.94998552e-01, 5.00144776e-03],\n",
              "       [9.94867227e-01, 5.13277289e-03],\n",
              "       [9.94732472e-01, 5.26752802e-03],\n",
              "       [9.94594198e-01, 5.40580178e-03],\n",
              "       [9.94452315e-01, 5.54768500e-03],\n",
              "       [9.94306729e-01, 5.69327085e-03],\n",
              "       [9.94157345e-01, 5.84265480e-03],\n",
              "       [9.94004065e-01, 5.99593475e-03],\n",
              "       [9.93846789e-01, 6.15321107e-03],\n",
              "       [9.93685413e-01, 6.31458660e-03],\n",
              "       [9.93519833e-01, 6.48016682e-03],\n",
              "       [9.93349940e-01, 6.65005980e-03],\n",
              "       [9.93175624e-01, 6.82437633e-03],\n",
              "       [9.92996770e-01, 7.00322997e-03],\n",
              "       [9.92813263e-01, 7.18673709e-03],\n",
              "       [9.92624983e-01, 7.37501698e-03],\n",
              "       [9.92431808e-01, 7.56819187e-03],\n",
              "       [9.92233613e-01, 7.76638703e-03],\n",
              "       [9.92030269e-01, 7.96973083e-03],\n",
              "       [9.91821645e-01, 8.17835480e-03],\n",
              "       [9.91607606e-01, 8.39239373e-03],\n",
              "       [9.91388014e-01, 8.61198572e-03],\n",
              "       [9.91162728e-01, 8.83727226e-03],\n",
              "       [9.90931602e-01, 9.06839830e-03],\n",
              "       [9.90694488e-01, 9.30551236e-03],\n",
              "       [9.90451233e-01, 9.54876657e-03],\n",
              "       [9.90201683e-01, 9.79831676e-03],\n",
              "       [9.89945677e-01, 1.00543226e-02],\n",
              "       [9.89683053e-01, 1.03169475e-02],\n",
              "       [9.89413641e-01, 1.05863590e-02],\n",
              "       [9.89137272e-01, 1.08627285e-02],\n",
              "       [9.88853768e-01, 1.11462317e-02],\n",
              "       [9.88562952e-01, 1.14370484e-02],\n",
              "       [9.88264637e-01, 1.17353628e-02],\n",
              "       [9.87958637e-01, 1.20413634e-02],\n",
              "       [9.87644757e-01, 1.23552432e-02],\n",
              "       [9.87322800e-01, 1.26771999e-02],\n",
              "       [9.86992564e-01, 1.30074357e-02],\n",
              "       [9.86653842e-01, 1.33461578e-02],\n",
              "       [9.86306422e-01, 1.36935780e-02],\n",
              "       [9.85950087e-01, 1.40499133e-02],\n",
              "       [9.85584614e-01, 1.44153856e-02],\n",
              "       [9.85209778e-01, 1.47902222e-02],\n",
              "       [9.84825345e-01, 1.51746554e-02],\n",
              "       [9.84431077e-01, 1.55689231e-02],\n",
              "       [9.84026732e-01, 1.59732684e-02],\n",
              "       [9.83612060e-01, 1.63879403e-02],\n",
              "       [9.83186807e-01, 1.68131933e-02],\n",
              "       [9.82750712e-01, 1.72492877e-02],\n",
              "       [9.82303510e-01, 1.76964898e-02],\n",
              "       [9.81844928e-01, 1.81550718e-02],\n",
              "       [9.81374688e-01, 1.86253121e-02],\n",
              "       [9.80892505e-01, 1.91074952e-02],\n",
              "       [9.80398088e-01, 1.96019119e-02],\n",
              "       [9.79891140e-01, 2.01088597e-02],\n",
              "       [9.79371358e-01, 2.06286424e-02],\n",
              "       [9.78838429e-01, 2.11615705e-02],\n",
              "       [9.78292039e-01, 2.17079613e-02],\n",
              "       [9.77731861e-01, 2.22681390e-02],\n",
              "       [9.77157565e-01, 2.28424346e-02],\n",
              "       [9.76568814e-01, 2.34311864e-02],\n",
              "       [9.75965260e-01, 2.40347397e-02],\n",
              "       [9.75346553e-01, 2.46534471e-02],\n",
              "       [9.74712331e-01, 2.52876688e-02],\n",
              "       [9.74062228e-01, 2.59377722e-02],\n",
              "       [9.73395867e-01, 2.66041326e-02],\n",
              "       [9.72712867e-01, 2.72871326e-02],\n",
              "       [9.72012837e-01, 2.79871630e-02],\n",
              "       [9.71295378e-01, 2.87046222e-02],\n",
              "       [9.70560083e-01, 2.94399165e-02],\n",
              "       [9.69806539e-01, 3.01934606e-02],\n",
              "       [9.69034323e-01, 3.09656770e-02],\n",
              "       [9.68243003e-01, 3.17569966e-02],\n",
              "       [9.67432141e-01, 3.25678585e-02],\n",
              "       [9.66601290e-01, 3.33987103e-02],\n",
              "       [9.65749992e-01, 3.42500078e-02],\n",
              "       [9.64877784e-01, 3.51222156e-02],\n",
              "       [9.63984193e-01, 3.60158066e-02],\n",
              "       [9.63068737e-01, 3.69312625e-02],\n",
              "       [9.62130927e-01, 3.78690735e-02],\n",
              "       [9.61170262e-01, 3.88297385e-02],\n",
              "       [9.60186235e-01, 3.98137653e-02],\n",
              "       [9.59178330e-01, 4.08216702e-02],\n",
              "       [9.58146021e-01, 4.18539786e-02],\n",
              "       [9.57088776e-01, 4.29112243e-02],\n",
              "       [9.56006050e-01, 4.39939502e-02],\n",
              "       [9.54897292e-01, 4.51027078e-02],\n",
              "       [9.53761943e-01, 4.62380573e-02],\n",
              "       [9.52599432e-01, 4.74005678e-02],\n",
              "       [9.51409183e-01, 4.85908169e-02],\n",
              "       [9.50190609e-01, 4.98093909e-02],\n",
              "       [9.48943115e-01, 5.10568846e-02],\n",
              "       [9.47666098e-01, 5.23339015e-02],\n",
              "       [9.46358947e-01, 5.36410532e-02],\n",
              "       [9.45021040e-01, 5.49789596e-02],\n",
              "       [9.43651751e-01, 5.63482490e-02],\n",
              "       [9.42250443e-01, 5.77495575e-02],\n",
              "       [9.40816471e-01, 5.91835291e-02],\n",
              "       [9.39349184e-01, 6.06508155e-02],\n",
              "       [9.37847924e-01, 6.21520759e-02],\n",
              "       [9.36312023e-01, 6.36879769e-02],\n",
              "       [9.34740808e-01, 6.52591920e-02],\n",
              "       [9.33133599e-01, 6.68664015e-02],\n",
              "       [9.31489708e-01, 6.85102924e-02],\n",
              "       [9.29808442e-01, 7.01915578e-02],\n",
              "       [9.28089103e-01, 7.19108969e-02],\n",
              "       [9.26330986e-01, 7.36690142e-02],\n",
              "       [9.24533380e-01, 7.54666199e-02],\n",
              "       [9.22695571e-01, 7.73044287e-02],\n",
              "       [9.20816840e-01, 7.91831597e-02],\n",
              "       [9.18896464e-01, 8.11035362e-02],\n",
              "       [9.16933715e-01, 8.30662849e-02],\n",
              "       [9.14927864e-01, 8.50721357e-02],\n",
              "       [9.12878179e-01, 8.71218207e-02],\n",
              "       [9.10783926e-01, 8.92160743e-02],\n",
              "       [9.08644368e-01, 9.13556321e-02],\n",
              "       [9.06458769e-01, 9.35412305e-02],\n",
              "       [9.04226394e-01, 9.57736059e-02],\n",
              "       [9.01946506e-01, 9.80534944e-02],\n",
              "       [8.99618370e-01, 1.00381630e-01],\n",
              "       [8.97241253e-01, 1.02758747e-01],\n",
              "       [8.94814426e-01, 1.05185574e-01],\n",
              "       [8.92337163e-01, 1.07662837e-01],\n",
              "       [8.89808742e-01, 1.10191258e-01],\n",
              "       [8.87228446e-01, 1.12771554e-01],\n",
              "       [8.84595564e-01, 1.15404436e-01],\n",
              "       [8.81909395e-01, 1.18090605e-01],\n",
              "       [8.79169242e-01, 1.20830758e-01],\n",
              "       [8.76374419e-01, 1.23625581e-01],\n",
              "       [8.73524253e-01, 1.26475747e-01],\n",
              "       [8.70618077e-01, 1.29381923e-01],\n",
              "       [8.67655240e-01, 1.32344760e-01],\n",
              "       [8.64635103e-01, 1.35364897e-01],\n",
              "       [8.61557043e-01, 1.38442957e-01],\n",
              "       [8.58420452e-01, 1.41579548e-01],\n",
              "       [8.55224739e-01, 1.44775261e-01],\n",
              "       [8.51969332e-01, 1.48030668e-01],\n",
              "       [8.48653678e-01, 1.51346322e-01],\n",
              "       [8.45277246e-01, 1.54722754e-01],\n",
              "       [8.41839526e-01, 1.58160474e-01],\n",
              "       [8.38340033e-01, 1.61659967e-01],\n",
              "       [8.34778306e-01, 1.65221694e-01],\n",
              "       [8.31153912e-01, 1.68846088e-01],\n",
              "       [8.27466443e-01, 1.72533557e-01],\n",
              "       [8.23715523e-01, 1.76284477e-01],\n",
              "       [8.19900805e-01, 1.80099195e-01],\n",
              "       [8.16021977e-01, 1.83978023e-01],\n",
              "       [8.12078756e-01, 1.87921244e-01],\n",
              "       [8.08070898e-01, 1.91929102e-01],\n",
              "       [8.03998194e-01, 1.96001806e-01],\n",
              "       [7.99860472e-01, 2.00139528e-01],\n",
              "       [7.95657601e-01, 2.04342399e-01],\n",
              "       [7.91389490e-01, 2.08610510e-01],\n",
              "       [7.87056089e-01, 2.12943911e-01],\n",
              "       [7.82657394e-01, 2.17342606e-01],\n",
              "       [7.78193443e-01, 2.21806557e-01],\n",
              "       [7.73664322e-01, 2.26335678e-01],\n",
              "       [7.69070163e-01, 2.30929837e-01],\n",
              "       [7.64411149e-01, 2.35588851e-01],\n",
              "       [7.59687510e-01, 2.40312490e-01],\n",
              "       [7.54899529e-01, 2.45100471e-01],\n",
              "       [7.50047538e-01, 2.49952462e-01],\n",
              "       [7.45131927e-01, 2.54868073e-01],\n",
              "       [7.40153135e-01, 2.59846865e-01],\n",
              "       [7.35111658e-01, 2.64888342e-01],\n",
              "       [7.30008048e-01, 2.69991952e-01],\n",
              "       [7.24842913e-01, 2.75157087e-01],\n",
              "       [7.19616917e-01, 2.80383083e-01],\n",
              "       [7.14330783e-01, 2.85669217e-01],\n",
              "       [7.08985292e-01, 2.91014708e-01],\n",
              "       [7.03581281e-01, 2.96418719e-01],\n",
              "       [6.98119649e-01, 3.01880351e-01],\n",
              "       [6.92601351e-01, 3.07398649e-01],\n",
              "       [6.87027402e-01, 3.12972598e-01],\n",
              "       [6.81398876e-01, 3.18601124e-01],\n",
              "       [6.75716904e-01, 3.24283096e-01],\n",
              "       [6.69982677e-01, 3.30017323e-01],\n",
              "       [6.64197444e-01, 3.35802556e-01],\n",
              "       [6.58362508e-01, 3.41637492e-01],\n",
              "       [6.52479232e-01, 3.47520768e-01],\n",
              "       [6.46549034e-01, 3.53450966e-01],\n",
              "       [6.40573386e-01, 3.59426614e-01],\n",
              "       [6.34553813e-01, 3.65446187e-01],\n",
              "       [6.28491895e-01, 3.71508105e-01],\n",
              "       [6.22389260e-01, 3.77610740e-01],\n",
              "       [6.16247589e-01, 3.83752411e-01],\n",
              "       [6.10068609e-01, 3.89931391e-01],\n",
              "       [6.03854095e-01, 3.96145905e-01],\n",
              "       [5.97605865e-01, 4.02394135e-01],\n",
              "       [5.91325782e-01, 4.08674218e-01],\n",
              "       [5.85015747e-01, 4.14984253e-01],\n",
              "       [5.78677701e-01, 4.21322299e-01],\n",
              "       [5.72313623e-01, 4.27686377e-01],\n",
              "       [5.65925524e-01, 4.34074476e-01],\n",
              "       [5.59515446e-01, 4.40484554e-01],\n",
              "       [5.53085462e-01, 4.46914538e-01],\n",
              "       [5.46637670e-01, 4.53362330e-01],\n",
              "       [5.40174192e-01, 4.59825808e-01],\n",
              "       [5.33697172e-01, 4.66302828e-01],\n",
              "       [5.27208772e-01, 4.72791228e-01],\n",
              "       [5.20711167e-01, 4.79288833e-01],\n",
              "       [5.14206548e-01, 4.85793452e-01],\n",
              "       [5.07697112e-01, 4.92302888e-01],\n",
              "       [5.01185066e-01, 4.98814934e-01],\n",
              "       [4.94672618e-01, 5.05327382e-01],\n",
              "       [4.88161977e-01, 5.11838023e-01],\n",
              "       [4.81655350e-01, 5.18344650e-01],\n",
              "       [4.75154938e-01, 5.24845062e-01],\n",
              "       [4.68662936e-01, 5.31337064e-01],\n",
              "       [4.62181523e-01, 5.37818477e-01],\n",
              "       [4.55712868e-01, 5.44287132e-01],\n",
              "       [4.49259121e-01, 5.50740879e-01],\n",
              "       [4.42822412e-01, 5.57177588e-01],\n",
              "       [4.36404848e-01, 5.63595152e-01],\n",
              "       [4.30008512e-01, 5.69991488e-01],\n",
              "       [4.23635457e-01, 5.76364543e-01],\n",
              "       [4.17287707e-01, 5.82712293e-01],\n",
              "       [4.10967252e-01, 5.89032748e-01],\n",
              "       [4.04676046e-01, 5.95323954e-01],\n",
              "       [3.98416006e-01, 6.01583994e-01],\n",
              "       [3.92189009e-01, 6.07810991e-01],\n",
              "       [3.85996889e-01, 6.14003111e-01],\n",
              "       [3.79841438e-01, 6.20158562e-01],\n",
              "       [3.73724400e-01, 6.26275600e-01],\n",
              "       [3.67647473e-01, 6.32352527e-01],\n",
              "       [3.61612304e-01, 6.38387696e-01],\n",
              "       [3.55620490e-01, 6.44379510e-01],\n",
              "       [3.49673578e-01, 6.50326422e-01],\n",
              "       [3.43773059e-01, 6.56226941e-01],\n",
              "       [3.37920371e-01, 6.62079629e-01],\n",
              "       [3.32116895e-01, 6.67883105e-01],\n",
              "       [3.26363958e-01, 6.73636042e-01],\n",
              "       [3.20662829e-01, 6.79337171e-01],\n",
              "       [3.15014718e-01, 6.84985282e-01],\n",
              "       [3.09420779e-01, 6.90579221e-01],\n",
              "       [3.03882108e-01, 6.96117892e-01],\n",
              "       [2.98399740e-01, 7.01600260e-01],\n",
              "       [2.92974652e-01, 7.07025348e-01],\n",
              "       [2.87607763e-01, 7.12392237e-01],\n",
              "       [2.82299934e-01, 7.17700066e-01],\n",
              "       [2.77051966e-01, 7.22948034e-01],\n",
              "       [2.71864602e-01, 7.28135398e-01],\n",
              "       [2.66738528e-01, 7.33261472e-01],\n",
              "       [2.61674373e-01, 7.38325627e-01],\n",
              "       [2.56672708e-01, 7.43327292e-01],\n",
              "       [2.51734049e-01, 7.48265951e-01],\n",
              "       [2.46858857e-01, 7.53141143e-01],\n",
              "       [2.42047540e-01, 7.57952460e-01],\n",
              "       [2.37300449e-01, 7.62699551e-01],\n",
              "       [2.32617887e-01, 7.67382113e-01],\n",
              "       [2.28000102e-01, 7.71999898e-01],\n",
              "       [2.23447294e-01, 7.76552706e-01],\n",
              "       [2.18959614e-01, 7.81040386e-01],\n",
              "       [2.14537163e-01, 7.85462837e-01],\n",
              "       [2.10179998e-01, 7.89820002e-01],\n",
              "       [2.05888130e-01, 7.94111870e-01],\n",
              "       [2.01661524e-01, 7.98338476e-01],\n",
              "       [1.97500106e-01, 8.02499894e-01],\n",
              "       [1.93403758e-01, 8.06596242e-01],\n",
              "       [1.89372323e-01, 8.10627677e-01],\n",
              "       [1.85405605e-01, 8.14594395e-01],\n",
              "       [1.81503373e-01, 8.18496627e-01],\n",
              "       [1.77665359e-01, 8.22334641e-01],\n",
              "       [1.73891259e-01, 8.26108741e-01],\n",
              "       [1.70180741e-01, 8.29819259e-01],\n",
              "       [1.66533437e-01, 8.33466563e-01],\n",
              "       [1.62948952e-01, 8.37051048e-01],\n",
              "       [1.59426863e-01, 8.40573137e-01],\n",
              "       [1.55966717e-01, 8.44033283e-01],\n",
              "       [1.52568038e-01, 8.47431962e-01],\n",
              "       [1.49230326e-01, 8.50769674e-01],\n",
              "       [1.45953056e-01, 8.54046944e-01],\n",
              "       [1.42735684e-01, 8.57264316e-01],\n",
              "       [1.39577644e-01, 8.60422356e-01],\n",
              "       [1.36478353e-01, 8.63521647e-01],\n",
              "       [1.33437208e-01, 8.66562792e-01],\n",
              "       [1.30453591e-01, 8.69546409e-01],\n",
              "       [1.27526869e-01, 8.72473131e-01],\n",
              "       [1.24656395e-01, 8.75343605e-01],\n",
              "       [1.21841509e-01, 8.78158491e-01],\n",
              "       [1.19081540e-01, 8.80918460e-01],\n",
              "       [1.16375804e-01, 8.83624196e-01],\n",
              "       [1.13723610e-01, 8.86276390e-01],\n",
              "       [1.11124259e-01, 8.88875741e-01],\n",
              "       [1.08577041e-01, 8.91422959e-01],\n",
              "       [1.06081243e-01, 8.93918757e-01],\n",
              "       [1.03636145e-01, 8.96363855e-01],\n",
              "       [1.01241022e-01, 8.98758978e-01],\n",
              "       [9.88951455e-02, 9.01104855e-01],\n",
              "       [9.65977833e-02, 9.03402217e-01],\n",
              "       [9.43482017e-02, 9.05651798e-01],\n",
              "       [9.21456651e-02, 9.07854335e-01],\n",
              "       [8.99894371e-02, 9.10010563e-01],\n",
              "       [8.78787812e-02, 9.12121219e-01],\n",
              "       [8.58129614e-02, 9.14187039e-01],\n",
              "       [8.37912430e-02, 9.16208757e-01],\n",
              "       [8.18128929e-02, 9.18187107e-01],\n",
              "       [7.98771802e-02, 9.20122820e-01],\n",
              "       [7.79833771e-02, 9.22016623e-01],\n",
              "       [7.61307591e-02, 9.23869241e-01],\n",
              "       [7.43186054e-02, 9.25681395e-01],\n",
              "       [7.25461995e-02, 9.27453800e-01],\n",
              "       [7.08128298e-02, 9.29187170e-01],\n",
              "       [6.91177895e-02, 9.30882210e-01],\n",
              "       [6.74603775e-02, 9.32539622e-01],\n",
              "       [6.58398985e-02, 9.34160102e-01],\n",
              "       [6.42556631e-02, 9.35744337e-01],\n",
              "       [6.27069887e-02, 9.37293011e-01],\n",
              "       [6.11931991e-02, 9.38806801e-01],\n",
              "       [5.97136253e-02, 9.40286375e-01],\n",
              "       [5.82676053e-02, 9.41732395e-01],\n",
              "       [5.68544848e-02, 9.43145515e-01],\n",
              "       [5.54736168e-02, 9.44526383e-01],\n",
              "       [5.41243623e-02, 9.45875638e-01],\n",
              "       [5.28060903e-02, 9.47193910e-01],\n",
              "       [5.15181778e-02, 9.48481822e-01],\n",
              "       [5.02600100e-02, 9.49739990e-01],\n",
              "       [4.90309806e-02, 9.50969019e-01],\n",
              "       [4.78304916e-02, 9.52169508e-01],\n",
              "       [4.66579536e-02, 9.53342046e-01],\n",
              "       [4.55127858e-02, 9.54487214e-01],\n",
              "       [4.43944159e-02, 9.55605584e-01],\n",
              "       [4.33022807e-02, 9.56697719e-01],\n",
              "       [4.22358253e-02, 9.57764175e-01],\n",
              "       [4.11945038e-02, 9.58805496e-01],\n",
              "       [4.01777790e-02, 9.59822221e-01],\n",
              "       [3.91851225e-02, 9.60814878e-01],\n",
              "       [3.82160147e-02, 9.61783985e-01],\n",
              "       [3.72699447e-02, 9.62730055e-01],\n",
              "       [3.63464104e-02, 9.63653590e-01],\n",
              "       [3.54449184e-02, 9.64555082e-01],\n",
              "       [3.45649838e-02, 9.65435016e-01],\n",
              "       [3.37061306e-02, 9.66293869e-01],\n",
              "       [3.28678913e-02, 9.67132109e-01],\n",
              "       [3.20498068e-02, 9.67950193e-01],\n",
              "       [3.12514264e-02, 9.68748574e-01],\n",
              "       [3.04723081e-02, 9.69527692e-01],\n",
              "       [2.97120180e-02, 9.70287982e-01],\n",
              "       [2.89701305e-02, 9.71029870e-01],\n",
              "       [2.82462281e-02, 9.71753772e-01],\n",
              "       [2.75399014e-02, 9.72460099e-01],\n",
              "       [2.68507492e-02, 9.73149251e-01],\n",
              "       [2.61783779e-02, 9.73821622e-01],\n",
              "       [2.55224019e-02, 9.74477598e-01],\n",
              "       [2.48824433e-02, 9.75117557e-01],\n",
              "       [2.42581319e-02, 9.75741868e-01],\n",
              "       [2.36491048e-02, 9.76350895e-01],\n",
              "       [2.30550067e-02, 9.76944993e-01],\n",
              "       [2.24754896e-02, 9.77524510e-01],\n",
              "       [2.19102127e-02, 9.78089787e-01],\n",
              "       [2.13588424e-02, 9.78641158e-01],\n",
              "       [2.08210519e-02, 9.79178948e-01],\n",
              "       [2.02965215e-02, 9.79703479e-01],\n",
              "       [1.97849382e-02, 9.80215062e-01],\n",
              "       [1.92859958e-02, 9.80714004e-01],\n",
              "       [1.87993946e-02, 9.81200605e-01],\n",
              "       [1.83248413e-02, 9.81675159e-01],\n",
              "       [1.78620490e-02, 9.82137951e-01],\n",
              "       [1.74107373e-02, 9.82589263e-01],\n",
              "       [1.69706316e-02, 9.83029368e-01],\n",
              "       [1.65414635e-02, 9.83458536e-01],\n",
              "       [1.61229706e-02, 9.83877029e-01],\n",
              "       [1.57148963e-02, 9.84285104e-01],\n",
              "       [1.53169895e-02, 9.84683010e-01],\n",
              "       [1.49290051e-02, 9.85070995e-01],\n",
              "       [1.45507032e-02, 9.85449297e-01],\n",
              "       [1.41818495e-02, 9.85818150e-01],\n",
              "       [1.38222150e-02, 9.86177785e-01],\n",
              "       [1.34715757e-02, 9.86528424e-01],\n",
              "       [1.31297129e-02, 9.86870287e-01],\n",
              "       [1.27964129e-02, 9.87203587e-01],\n",
              "       [1.24714669e-02, 9.87528533e-01],\n",
              "       [1.21546708e-02, 9.87845329e-01],\n",
              "       [1.18458253e-02, 9.88154175e-01],\n",
              "       [1.15447358e-02, 9.88455264e-01],\n",
              "       [1.12512120e-02, 9.88748788e-01],\n",
              "       [1.09650682e-02, 9.89034932e-01],\n",
              "       [1.06861231e-02, 9.89313877e-01],\n",
              "       [1.04141994e-02, 9.89585801e-01],\n",
              "       [1.01491243e-02, 9.89850876e-01],\n",
              "       [9.89072875e-03, 9.90109271e-01],\n",
              "       [9.63884786e-03, 9.90361152e-01],\n",
              "       [9.39332060e-03, 9.90606679e-01],\n",
              "       [9.15398976e-03, 9.90846010e-01],\n",
              "       [8.92070189e-03, 9.91079298e-01],\n",
              "       [8.69330715e-03, 9.91306693e-01],\n",
              "       [8.47165932e-03, 9.91528341e-01],\n",
              "       [8.25561564e-03, 9.91744384e-01],\n",
              "       [8.04503678e-03, 9.91954963e-01],\n",
              "       [7.83978677e-03, 9.92160213e-01],\n",
              "       [7.63973290e-03, 9.92360267e-01],\n",
              "       [7.44474566e-03, 9.92555254e-01],\n",
              "       [7.25469864e-03, 9.92745301e-01],\n",
              "       [7.06946854e-03, 9.92930531e-01],\n",
              "       [6.88893498e-03, 9.93111065e-01],\n",
              "       [6.71298056e-03, 9.93287019e-01],\n",
              "       [6.54149070e-03, 9.93458509e-01],\n",
              "       [6.37435360e-03, 9.93625646e-01],\n",
              "       [6.21146020e-03, 9.93788540e-01],\n",
              "       [6.05270411e-03, 9.93947296e-01],\n",
              "       [5.89798151e-03, 9.94102018e-01],\n",
              "       [5.74719116e-03, 9.94252809e-01],\n",
              "       [5.60023425e-03, 9.94399766e-01],\n",
              "       [5.45701444e-03, 9.94542986e-01],\n",
              "       [5.31743774e-03, 9.94682562e-01],\n",
              "       [5.18141245e-03, 9.94818588e-01],\n",
              "       [5.04884916e-03, 9.94951151e-01],\n",
              "       [4.91966066e-03, 9.95080339e-01],\n",
              "       [4.79376186e-03, 9.95206238e-01],\n",
              "       [4.67106981e-03, 9.95328930e-01],\n",
              "       [4.55150359e-03, 9.95448496e-01],\n",
              "       [4.43498430e-03, 9.95565016e-01],\n",
              "       [4.32143496e-03, 9.95678565e-01],\n",
              "       [4.21078055e-03, 9.95789219e-01],\n",
              "       [4.10294787e-03, 9.95897052e-01],\n",
              "       [3.99786556e-03, 9.96002134e-01],\n",
              "       [3.89546403e-03, 9.96104536e-01],\n",
              "       [3.79567543e-03, 9.96204325e-01],\n",
              "       [3.69843357e-03, 9.96301566e-01],\n",
              "       [3.60367396e-03, 9.96396326e-01],\n",
              "       [3.51133368e-03, 9.96488666e-01],\n",
              "       [3.42135139e-03, 9.96578649e-01],\n",
              "       [3.33366730e-03, 9.96666333e-01],\n",
              "       [3.24822310e-03, 9.96751777e-01],\n",
              "       [3.16496193e-03, 9.96835038e-01],\n",
              "       [3.08382838e-03, 9.96916172e-01],\n",
              "       [3.00476842e-03, 9.96995232e-01]])"
            ]
          },
          "metadata": {},
          "execution_count": 220
        }
      ]
    },
    {
      "cell_type": "code",
      "source": [
        "plt.plot(x_new, y_proba[:, 0], 'g--')\n",
        "plt.plot(x_new, y_proba[:, 1], 'b-')\n",
        "plt.show()"
      ],
      "metadata": {
        "colab": {
          "base_uri": "https://localhost:8080/",
          "height": 265
        },
        "id": "PTbA4vt1Gdgf",
        "outputId": "ab0b2b87-3b7e-42c7-ff99-27c6a61b419a"
      },
      "execution_count": 221,
      "outputs": [
        {
          "output_type": "display_data",
          "data": {
            "text/plain": [
              "<Figure size 432x288 with 1 Axes>"
            ],
            "image/png": "[encoded data removed]"
          },
          "metadata": {
            "needs_background": "light"
          }
        }
      ]
    },
    {
      "cell_type": "code",
      "source": [
        "log_reg.predict([[1.6604126093],[2.0]])"
      ],
      "metadata": {
        "colab": {
          "base_uri": "https://localhost:8080/"
        },
        "id": "5P1oD-1aGnJF",
        "outputId": "b273b447-a2f9-4602-8162-e335d4b6446c"
      },
      "execution_count": 263,
      "outputs": [
        {
          "output_type": "execute_result",
          "data": {
            "text/plain": [
              "array([0, 1])"
            ]
          },
          "metadata": {},
          "execution_count": 263
        }
      ]
    },
    {
      "cell_type": "code",
      "source": [],
      "metadata": {
        "id": "v0gvuM3OH-HL"
      },
      "execution_count": null,
      "outputs": []
    },
    {
      "cell_type": "markdown",
      "source": [
        "Softmax Reg"
      ],
      "metadata": {
        "id": "InnBYyUbImp7"
      }
    },
    {
      "cell_type": "code",
      "source": [
        "X = iris['data'][:, (2,3)]"
      ],
      "metadata": {
        "id": "RTR7dW7CIoSs"
      },
      "execution_count": 264,
      "outputs": []
    },
    {
      "cell_type": "code",
      "source": [
        "y = iris['target']"
      ],
      "metadata": {
        "id": "QC0IhAQ7IsNA"
      },
      "execution_count": 265,
      "outputs": []
    },
    {
      "cell_type": "code",
      "source": [
        "softmax_reg = LogisticRegression(multi_class='multinomial', C=10)"
      ],
      "metadata": {
        "id": "eclXP8wFItz8"
      },
      "execution_count": 268,
      "outputs": []
    },
    {
      "cell_type": "code",
      "source": [
        "softmax_reg.fit(X, y)"
      ],
      "metadata": {
        "colab": {
          "base_uri": "https://localhost:8080/"
        },
        "id": "QIu-JDU5IyyU",
        "outputId": "90a71119-3628-4228-ce0b-72edd3ebbfc8"
      },
      "execution_count": 269,
      "outputs": [
        {
          "output_type": "execute_result",
          "data": {
            "text/plain": [
              "LogisticRegression(C=10, multi_class='multinomial')"
            ]
          },
          "metadata": {},
          "execution_count": 269
        }
      ]
    },
    {
      "cell_type": "code",
      "source": [
        "softmax_reg.predict_proba([[5,2]])"
      ],
      "metadata": {
        "colab": {
          "base_uri": "https://localhost:8080/"
        },
        "id": "St3QHj3mJDxZ",
        "outputId": "c9001098-d11a-4b6a-e363-906969f23639"
      },
      "execution_count": 275,
      "outputs": [
        {
          "output_type": "execute_result",
          "data": {
            "text/plain": [
              "array([[9.99488934e-01, 5.11065839e-04, 3.26936830e-10]])"
            ]
          },
          "metadata": {},
          "execution_count": 275
        }
      ]
    },
    {
      "cell_type": "code",
      "source": [
        "softmax_reg.predict([[5,2]]) # as you can see in the previous call, the predict_proba showed the probability for all the classes. This call shows number 2 as it's the biggest probablity"
      ],
      "metadata": {
        "colab": {
          "base_uri": "https://localhost:8080/"
        },
        "id": "YddwccBYJNan",
        "outputId": "cc0a7a26-ba78-4b48-9c48-ab522017fcaf"
      },
      "execution_count": 278,
      "outputs": [
        {
          "output_type": "execute_result",
          "data": {
            "text/plain": [
              "array([2])"
            ]
          },
          "metadata": {},
          "execution_count": 278
        }
      ]
    },
    {
      "cell_type": "code",
      "source": [],
      "metadata": {
        "id": "kWCK9i4XJVvE"
      },
      "execution_count": null,
      "outputs": []
    }
  ]
}