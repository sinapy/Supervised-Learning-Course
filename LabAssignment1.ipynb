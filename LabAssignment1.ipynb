{
  "nbformat": 4,
  "nbformat_minor": 0,
  "metadata": {
    "colab": {
      "provenance": [],
      "authorship_tag": "ABX9TyOEnPogeMDM+dxG76DMHryn",
      "include_colab_link": true
    },
    "kernelspec": {
      "name": "python3",
      "display_name": "Python 3"
    },
    "language_info": {
      "name": "python"
    }
  },
  "cells": [
    {
      "cell_type": "markdown",
      "metadata": {
        "id": "view-in-github",
        "colab_type": "text"
      },
      "source": [
        "<a href=\"https://colab.research.google.com/github/sinapy/Supervised-Learning-Course/blob/main/LabAssignment1.ipynb\" target=\"_parent\"><img src=\"https://colab.research.google.com/assets/colab-badge.svg\" alt=\"Open In Colab\"/></a>"
      ]
    },
    {
      "cell_type": "code",
      "execution_count": 3,
      "metadata": {
        "id": "hMjQAFLdFQ3I"
      },
      "outputs": [],
      "source": [
        "from sklearn.datasets import fetch_openml\n",
        "import numpy as np\n",
        "import pandas as pd"
      ]
    },
    {
      "cell_type": "code",
      "source": [
        "np.random.seed(98)"
      ],
      "metadata": {
        "id": "yUUqkvjUGp2K"
      },
      "execution_count": 4,
      "outputs": []
    },
    {
      "cell_type": "code",
      "source": [
        "MNIST_sina = fetch_openml('mnist_784', version=1)"
      ],
      "metadata": {
        "id": "7NtYa81GGuRA"
      },
      "execution_count": 5,
      "outputs": []
    },
    {
      "cell_type": "code",
      "source": [
        "# 2. List the Keys\n",
        "dir(MNIST_sina)"
      ],
      "metadata": {
        "colab": {
          "base_uri": "https://localhost:8080/"
        },
        "id": "dRtia6C7G2rN",
        "outputId": "fc14b00b-f67f-4090-fe4c-fbee585545b8"
      },
      "execution_count": 6,
      "outputs": [
        {
          "output_type": "execute_result",
          "data": {
            "text/plain": [
              "['DESCR',\n",
              " 'categories',\n",
              " 'data',\n",
              " 'details',\n",
              " 'feature_names',\n",
              " 'frame',\n",
              " 'target',\n",
              " 'target_names',\n",
              " 'url']"
            ]
          },
          "metadata": {},
          "execution_count": 6
        }
      ]
    },
    {
      "cell_type": "code",
      "source": [
        "# 3. Assign the data to a ndarray named X_sina \n",
        "X_sina = MNIST_sina.data\n",
        "# 4. Assign the target to a ndarray named y_sina\n",
        "y_sina = MNIST_sina.target"
      ],
      "metadata": {
        "id": "ziHl12TIG5kD"
      },
      "execution_count": 9,
      "outputs": []
    },
    {
      "cell_type": "code",
      "source": [
        "# 5. print the types of X_sina and y_sina\n",
        "print(type(X_sina))\n",
        "print(type(y_sina))"
      ],
      "metadata": {
        "colab": {
          "base_uri": "https://localhost:8080/"
        },
        "id": "wwvdlG1BHV80",
        "outputId": "c2d79b3c-e0d1-4e2d-e35f-81d44a2fd552"
      },
      "execution_count": 10,
      "outputs": [
        {
          "output_type": "stream",
          "name": "stdout",
          "text": [
            "<class 'pandas.core.frame.DataFrame'>\n",
            "<class 'pandas.core.series.Series'>\n"
          ]
        }
      ]
    },
    {
      "cell_type": "code",
      "source": [
        "# 6. print the shape of X_sina and y_sina\n",
        "print(X_sina.shape)\n",
        "print(y_sina.shape)"
      ],
      "metadata": {
        "colab": {
          "base_uri": "https://localhost:8080/"
        },
        "id": "GpxPkcMoHkB-",
        "outputId": "5d616ff1-c8b7-4215-c7a5-3cac1224a639"
      },
      "execution_count": 13,
      "outputs": [
        {
          "output_type": "stream",
          "name": "stdout",
          "text": [
            "(70000, 784)\n",
            "(70000,)\n"
          ]
        }
      ]
    },
    {
      "cell_type": "code",
      "source": [
        "# 7. create three values that store the values of index 3, 8 and 1\n",
        "X_sina = pd.DataFrame(X_sina).to_numpy()\n",
        "y_sina = pd.DataFrame(y_sina).to_numpy()\n",
        "some_digit12, some_digit13, some_digit14 = X_sina[3], X_sina[8], X_sina[1]"
      ],
      "metadata": {
        "id": "Y_73ovFHHth5"
      },
      "execution_count": 18,
      "outputs": []
    },
    {
      "cell_type": "code",
      "source": [
        "# 8. use imshow to plot the values of the three varialbes\n",
        "import matplotlib.pyplot as plt\n",
        "for value in [some_digit12, some_digit13, some_digit14]:\n",
        "  img = value.reshape(28,28)\n",
        "  plt.imshow(img, cmap=\"binary\")\n",
        "  plt.show()"
      ],
      "metadata": {
        "colab": {
          "base_uri": "https://localhost:8080/",
          "height": 761
        },
        "id": "Zv4V3ytPImc-",
        "outputId": "51d0896a-33a3-41a4-8c6e-6f6151b7b17e"
      },
      "execution_count": 20,
      "outputs": [
        {
          "output_type": "display_data",
          "data": {
            "text/plain": [
              "<Figure size 432x288 with 1 Axes>"
            ],
            "image/png": "[encoded data removed]"
          },
          "metadata": {
            "needs_background": "light"
          }
        },
        {
          "output_type": "display_data",
          "data": {
            "text/plain": [
              "<Figure size 432x288 with 1 Axes>"
            ],
            "image/png": "[encoded data removed]"
          },
          "metadata": {
            "needs_background": "light"
          }
        },
        {
          "output_type": "display_data",
          "data": {
            "text/plain": [
              "<Figure size 432x288 with 1 Axes>"
            ],
            "image/png": "[encoded data removed]"
          },
          "metadata": {
            "needs_background": "light"
          }
        }
      ]
    },
    {
      "cell_type": "code",
      "source": [
        "# 9. change the type of y to unit8\n",
        "y_sina = y_sina.astype(np.uint8)\n",
        "type(y_sina[0][0])"
      ],
      "metadata": {
        "colab": {
          "base_uri": "https://localhost:8080/"
        },
        "id": "3MzpuZDVJqLW",
        "outputId": "3f5f3be5-02c8-4c9b-ef25-79ac0e681581"
      },
      "execution_count": 31,
      "outputs": [
        {
          "output_type": "execute_result",
          "data": {
            "text/plain": [
              "numpy.uint8"
            ]
          },
          "metadata": {},
          "execution_count": 31
        }
      ]
    },
    {
      "cell_type": "code",
      "source": [
        "# 10. "
      ],
      "metadata": {
        "colab": {
          "base_uri": "https://localhost:8080/"
        },
        "id": "a1DtH9avKkAV",
        "outputId": "40837ea6-63bf-4023-cce1-2e5c08e9287f"
      },
      "execution_count": 28,
      "outputs": [
        {
          "output_type": "execute_result",
          "data": {
            "text/plain": [
              "numpy.uint8"
            ]
          },
          "metadata": {},
          "execution_count": 28
        }
      ]
    }
  ]
}