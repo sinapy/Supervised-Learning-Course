{
  "nbformat": 4,
  "nbformat_minor": 0,
  "metadata": {
    "colab": {
      "provenance": [],
      "authorship_tag": "ABX9TyPc2T+D8JHCVR55iBYVid1O",
      "include_colab_link": true
    },
    "kernelspec": {
      "name": "python3",
      "display_name": "Python 3"
    },
    "language_info": {
      "name": "python"
    }
  },
  "cells": [
    {
      "cell_type": "markdown",
      "metadata": {
        "id": "view-in-github",
        "colab_type": "text"
      },
      "source": [
        "<a href=\"https://colab.research.google.com/github/sinapy/Supervised-Learning-Course/blob/main/LabAssignment1.ipynb\" target=\"_parent\"><img src=\"https://colab.research.google.com/assets/colab-badge.svg\" alt=\"Open In Colab\"/></a>"
      ]
    },
    {
      "cell_type": "code",
      "execution_count": 50,
      "metadata": {
        "id": "hMjQAFLdFQ3I"
      },
      "outputs": [],
      "source": [
        "from sklearn.datasets import fetch_openml\n",
        "import numpy as np\n",
        "import pandas as pd"
      ]
    },
    {
      "cell_type": "code",
      "source": [
        "np.random.seed(98)"
      ],
      "metadata": {
        "id": "yUUqkvjUGp2K"
      },
      "execution_count": 51,
      "outputs": []
    },
    {
      "cell_type": "code",
      "source": [
        "MNIST_sina = fetch_openml('mnist_784', version=1)"
      ],
      "metadata": {
        "id": "7NtYa81GGuRA"
      },
      "execution_count": 52,
      "outputs": []
    },
    {
      "cell_type": "code",
      "source": [
        "# 2. List the Keys\n",
        "dir(MNIST_sina)"
      ],
      "metadata": {
        "colab": {
          "base_uri": "https://localhost:8080/"
        },
        "id": "dRtia6C7G2rN",
        "outputId": "85605453-8c2f-436f-bedd-4c1372cfb0ce"
      },
      "execution_count": 63,
      "outputs": [
        {
          "output_type": "execute_result",
          "data": {
            "text/plain": [
              "['DESCR',\n",
              " 'categories',\n",
              " 'data',\n",
              " 'details',\n",
              " 'feature_names',\n",
              " 'frame',\n",
              " 'target',\n",
              " 'target_names',\n",
              " 'url']"
            ]
          },
          "metadata": {},
          "execution_count": 63
        }
      ]
    },
    {
      "cell_type": "code",
      "source": [
        "# 3. Assign the data to a ndarray named X_sina \n",
        "X_sina = MNIST_sina.data\n",
        "# 4. Assign the target to a ndarray named y_sina\n",
        "y_sina = MNIST_sina.target"
      ],
      "metadata": {
        "id": "ziHl12TIG5kD"
      },
      "execution_count": 64,
      "outputs": []
    },
    {
      "cell_type": "code",
      "source": [
        "# 5. print the types of X_sina and y_sina\n",
        "print(type(X_sina))\n",
        "print(type(y_sina))"
      ],
      "metadata": {
        "colab": {
          "base_uri": "https://localhost:8080/"
        },
        "id": "wwvdlG1BHV80",
        "outputId": "79b84c87-949b-42db-fd4d-fffb244cf014"
      },
      "execution_count": 65,
      "outputs": [
        {
          "output_type": "stream",
          "name": "stdout",
          "text": [
            "<class 'pandas.core.frame.DataFrame'>\n",
            "<class 'pandas.core.series.Series'>\n"
          ]
        }
      ]
    },
    {
      "cell_type": "code",
      "source": [
        "# 6. print the shape of X_sina and y_sina\n",
        "print(X_sina.shape)\n",
        "print(y_sina.shape)"
      ],
      "metadata": {
        "colab": {
          "base_uri": "https://localhost:8080/"
        },
        "id": "GpxPkcMoHkB-",
        "outputId": "40f154cc-32a8-43e8-b001-812a79934cec"
      },
      "execution_count": 66,
      "outputs": [
        {
          "output_type": "stream",
          "name": "stdout",
          "text": [
            "(70000, 784)\n",
            "(70000,)\n"
          ]
        }
      ]
    },
    {
      "cell_type": "code",
      "source": [
        "# 7. create three values that store the values of index 3, 8 and 1\n",
        "X_sina = pd.DataFrame(X_sina).to_numpy()\n",
        "y_sina = pd.DataFrame(y_sina).to_numpy()\n",
        "some_digit12, some_digit13, some_digit14 = X_sina[3], X_sina[8], X_sina[1]"
      ],
      "metadata": {
        "id": "Y_73ovFHHth5"
      },
      "execution_count": 67,
      "outputs": []
    },
    {
      "cell_type": "code",
      "source": [
        "# 8. use imshow to plot the values of the three varialbes\n",
        "import matplotlib.pyplot as plt\n",
        "for value in [some_digit12, some_digit13, some_digit14]:\n",
        "  img = value.reshape(28,28)\n",
        "  plt.imshow(img, cmap=\"binary\")\n",
        "  plt.show()"
      ],
      "metadata": {
        "colab": {
          "base_uri": "https://localhost:8080/",
          "height": 761
        },
        "id": "Zv4V3ytPImc-",
        "outputId": "83b15106-7201-4278-e212-2c47ec4c7f8a"
      },
      "execution_count": 68,
      "outputs": [
        {
          "output_type": "display_data",
          "data": {
            "text/plain": [
              "<Figure size 432x288 with 1 Axes>"
            ],
            "image/png": "[encoded data removed]"
          },
          "metadata": {
            "needs_background": "light"
          }
        },
        {
          "output_type": "display_data",
          "data": {
            "text/plain": [
              "<Figure size 432x288 with 1 Axes>"
            ],
            "image/png": "[encoded data removed]"
          },
          "metadata": {
            "needs_background": "light"
          }
        },
        {
          "output_type": "display_data",
          "data": {
            "text/plain": [
              "<Figure size 432x288 with 1 Axes>"
            ],
            "image/png": "[encoded data removed]"
          },
          "metadata": {
            "needs_background": "light"
          }
        }
      ]
    },
    {
      "cell_type": "code",
      "source": [
        "# 9. change the type of y to unit8\n",
        "y_sina = y_sina.astype(np.uint8)\n",
        "type(y_sina[0][0])"
      ],
      "metadata": {
        "colab": {
          "base_uri": "https://localhost:8080/"
        },
        "id": "3MzpuZDVJqLW",
        "outputId": "81813963-2d54-4e37-a117-5f2842787fcf"
      },
      "execution_count": 69,
      "outputs": [
        {
          "output_type": "execute_result",
          "data": {
            "text/plain": [
              "numpy.uint8"
            ]
          },
          "metadata": {},
          "execution_count": 69
        }
      ]
    },
    {
      "cell_type": "code",
      "source": [
        "# 10. \n",
        "for i in range(70000):\n",
        "  value = 0\n",
        "  if (0 <= y_sina[i][0] <= 3):\n",
        "    value = 0\n",
        "  elif (4 <= y_sina[i][0] <= 6):\n",
        "    value = 1\n",
        "  else:\n",
        "    value = 9\n",
        "  \n",
        "  y_sina[i][0] = value"
      ],
      "metadata": {
        "id": "a1DtH9avKkAV"
      },
      "execution_count": 79,
      "outputs": []
    },
    {
      "cell_type": "code",
      "source": [
        "frequency0 = 0\n",
        "frequency1 = 0\n",
        "frequency9 = 0\n",
        "for i in y_sina:\n",
        "  if i == 0:\n",
        "    frequency0 += 1\n",
        "  elif i == 1:\n",
        "    frequency1 += 1\n",
        "  else:\n",
        "    frequency9 += 1\n",
        "\n",
        "print(\"frequency of zeros = \" + str(frequency0))\n",
        "print(\"frequency of Ones = \" + str(frequency1))\n",
        "print(\"frequency of Nines = \" + str(frequency9))\n",
        "\n",
        "data = [frequency0, frequency1, frequency9]\n",
        "labels = ['Zeros', 'Ones', 'Nines']\n",
        "\n",
        "plt.bar(labels, data)\n",
        "\n",
        "# Add labels and title\n",
        "plt.xlabel('Variables')\n",
        "plt.ylabel('Frequencies')\n",
        "plt.title('Histogram of Frequencies')\n",
        "\n",
        "plt.show()"
      ],
      "metadata": {
        "colab": {
          "base_uri": "https://localhost:8080/",
          "height": 347
        },
        "id": "eXewRCdrV12_",
        "outputId": "22440a0c-3975-4534-d82d-d8d4e024e63b"
      },
      "execution_count": 95,
      "outputs": [
        {
          "output_type": "stream",
          "name": "stdout",
          "text": [
            "frequency of zeros = 28911\n",
            "frequency of Ones = 20013\n",
            "frequency of Nines = 21076\n"
          ]
        },
        {
          "output_type": "display_data",
          "data": {
            "text/plain": [
              "<Figure size 432x288 with 1 Axes>"
            ],
            "image/png": "[encoded data removed]"
          },
          "metadata": {
            "needs_background": "light"
          }
        }
      ]
    },
    {
      "cell_type": "code",
      "source": [
        "X_train, y_train, X_test, y_test = X_sina[0:50000], y_sina[0:50000], X_sina[50000:], y_sina[50000:]\n",
        "y_train.reshape(50000, 1)\n",
        "y_test.reshape(20000, 1)\n",
        "print(\"length of X_train = \" + str(len(X_train)))\n",
        "print(\"length of y_train = \" + str(len(y_train)))\n",
        "print(\"length of X_test = \" + str(len(X_test)))\n",
        "print(\"length of y_test = \" + str(len(y_test)))"
      ],
      "metadata": {
        "colab": {
          "base_uri": "https://localhost:8080/"
        },
        "id": "42xq2vZObZMV",
        "outputId": "a9e36cf8-5066-4c83-8a52-8944e76ba23d"
      },
      "execution_count": 112,
      "outputs": [
        {
          "output_type": "stream",
          "name": "stdout",
          "text": [
            "length of X_train = 50000\n",
            "length of y_train = 50000\n",
            "length of X_test = 20000\n",
            "length of y_test = 20000\n"
          ]
        }
      ]
    },
    {
      "cell_type": "code",
      "source": [
        "# bringing naive bayes\n",
        "from sklearn.naive_bayes import GaussianNB"
      ],
      "metadata": {
        "id": "IThP4T6cca_Q"
      },
      "execution_count": 101,
      "outputs": []
    },
    {
      "cell_type": "code",
      "source": [
        "model = GaussianNB()\n",
        "model.fit(X_train, y_train)"
      ],
      "metadata": {
        "colab": {
          "base_uri": "https://localhost:8080/"
        },
        "id": "PU109FcPd-rw",
        "outputId": "ea8a2820-e238-492b-8e8d-d23762c7d350"
      },
      "execution_count": 103,
      "outputs": [
        {
          "output_type": "stream",
          "name": "stderr",
          "text": [
            "/usr/local/lib/python3.8/dist-packages/sklearn/utils/validation.py:993: DataConversionWarning: A column-vector y was passed when a 1d array was expected. Please change the shape of y to (n_samples, ), for example using ravel().\n",
            "  y = column_or_1d(y, warn=True)\n"
          ]
        },
        {
          "output_type": "execute_result",
          "data": {
            "text/plain": [
              "GaussianNB()"
            ]
          },
          "metadata": {},
          "execution_count": 103
        }
      ]
    },
    {
      "cell_type": "code",
      "source": [
        "y_pred = model.predict(X_test)"
      ],
      "metadata": {
        "id": "3acleDODeFtX"
      },
      "execution_count": 104,
      "outputs": []
    },
    {
      "cell_type": "code",
      "source": [
        "from sklearn.metrics import accuracy_score\n",
        "\n",
        "accuracy = accuracy_score(y_test, y_pred)\n",
        "print(\"Accuracy: \", accuracy)"
      ],
      "metadata": {
        "colab": {
          "base_uri": "https://localhost:8080/"
        },
        "id": "4FsyMbRLeHOV",
        "outputId": "867eefd3-bf85-495c-cd61-16e3fa2baaa9"
      },
      "execution_count": 105,
      "outputs": [
        {
          "output_type": "stream",
          "name": "stdout",
          "text": [
            "Accuracy:  0.5887\n"
          ]
        }
      ]
    },
    {
      "cell_type": "code",
      "source": [
        "# bringing Logistic regression\n",
        "from sklearn.linear_model import LogisticRegression"
      ],
      "metadata": {
        "id": "0iq9uGTceIsj"
      },
      "execution_count": 106,
      "outputs": []
    },
    {
      "cell_type": "code",
      "source": [
        "log_reg = LogisticRegression(solver='lbfgs', random_state=98, multi_class='multinomial', max_iter=1200, tol=0.1)"
      ],
      "metadata": {
        "id": "mcypEPAgeZW9"
      },
      "execution_count": 110,
      "outputs": []
    },
    {
      "cell_type": "code",
      "source": [
        "log_reg.fit(X_train,y_train) "
      ],
      "metadata": {
        "colab": {
          "base_uri": "https://localhost:8080/"
        },
        "id": "1Di1BMNpeakd",
        "outputId": "e906c6a5-ad4f-41a2-8bea-a6688dbe62a7"
      },
      "execution_count": 111,
      "outputs": [
        {
          "output_type": "stream",
          "name": "stderr",
          "text": [
            "/usr/local/lib/python3.8/dist-packages/sklearn/utils/validation.py:993: DataConversionWarning: A column-vector y was passed when a 1d array was expected. Please change the shape of y to (n_samples, ), for example using ravel().\n",
            "  y = column_or_1d(y, warn=True)\n",
            "/usr/local/lib/python3.8/dist-packages/sklearn/linear_model/_logistic.py:814: ConvergenceWarning: lbfgs failed to converge (status=1):\n",
            "STOP: TOTAL NO. of ITERATIONS REACHED LIMIT.\n",
            "\n",
            "Increase the number of iterations (max_iter) or scale the data as shown in:\n",
            "    https://scikit-learn.org/stable/modules/preprocessing.html\n",
            "Please also refer to the documentation for alternative solver options:\n",
            "    https://scikit-learn.org/stable/modules/linear_model.html#logistic-regression\n",
            "  n_iter_i = _check_optimize_result(\n"
          ]
        },
        {
          "output_type": "execute_result",
          "data": {
            "text/plain": [
              "LogisticRegression(max_iter=1200, multi_class='multinomial', random_state=98,\n",
              "                   tol=0.1)"
            ]
          },
          "metadata": {},
          "execution_count": 111
        }
      ]
    }
  ]
}