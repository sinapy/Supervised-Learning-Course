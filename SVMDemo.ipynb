{
  "nbformat": 4,
  "nbformat_minor": 0,
  "metadata": {
    "colab": {
      "provenance": [],
      "authorship_tag": "ABX9TyMz7fBS/gCubog+Sy+joBMa",
      "include_colab_link": true
    },
    "kernelspec": {
      "name": "python3",
      "display_name": "Python 3"
    },
    "language_info": {
      "name": "python"
    }
  },
  "cells": [
    {
      "cell_type": "markdown",
      "metadata": {
        "id": "view-in-github",
        "colab_type": "text"
      },
      "source": [
        "<a href=\"https://colab.research.google.com/github/sinapy/Supervised-Learning-Course/blob/main/SVMDemo.ipynb\" target=\"_parent\"><img src=\"https://colab.research.google.com/assets/colab-badge.svg\" alt=\"Open In Colab\"/></a>"
      ]
    },
    {
      "cell_type": "code",
      "execution_count": 108,
      "metadata": {
        "id": "1lwl1q8W_MPl"
      },
      "outputs": [],
      "source": [
        "import numpy as np\n",
        "import pandas as pd\n",
        "from sklearn import datasets"
      ]
    },
    {
      "cell_type": "code",
      "source": [
        "iris = datasets.load_iris()"
      ],
      "metadata": {
        "id": "ytMmdHHN_ekb"
      },
      "execution_count": 109,
      "outputs": []
    },
    {
      "cell_type": "code",
      "source": [
        "dir(iris)"
      ],
      "metadata": {
        "colab": {
          "base_uri": "https://localhost:8080/"
        },
        "id": "wIYvPiLa_lkJ",
        "outputId": "f1ea68eb-9efb-4aeb-be0e-1960c692ee61"
      },
      "execution_count": 110,
      "outputs": [
        {
          "output_type": "execute_result",
          "data": {
            "text/plain": [
              "['DESCR',\n",
              " 'data',\n",
              " 'data_module',\n",
              " 'feature_names',\n",
              " 'filename',\n",
              " 'frame',\n",
              " 'target',\n",
              " 'target_names']"
            ]
          },
          "metadata": {},
          "execution_count": 110
        }
      ]
    },
    {
      "cell_type": "code",
      "source": [
        "iris['feature_names']"
      ],
      "metadata": {
        "colab": {
          "base_uri": "https://localhost:8080/"
        },
        "id": "gsa0Npj__mmw",
        "outputId": "1b9f6231-341a-432d-c318-a1a369c9ae03"
      },
      "execution_count": 111,
      "outputs": [
        {
          "output_type": "execute_result",
          "data": {
            "text/plain": [
              "['sepal length (cm)',\n",
              " 'sepal width (cm)',\n",
              " 'petal length (cm)',\n",
              " 'petal width (cm)']"
            ]
          },
          "metadata": {},
          "execution_count": 111
        }
      ]
    },
    {
      "cell_type": "code",
      "source": [
        "iris['target']"
      ],
      "metadata": {
        "colab": {
          "base_uri": "https://localhost:8080/"
        },
        "id": "39OVViqV_qcd",
        "outputId": "1864243a-464c-4843-9d1a-971be58e1920"
      },
      "execution_count": 112,
      "outputs": [
        {
          "output_type": "execute_result",
          "data": {
            "text/plain": [
              "array([0, 0, 0, 0, 0, 0, 0, 0, 0, 0, 0, 0, 0, 0, 0, 0, 0, 0, 0, 0, 0, 0,\n",
              "       0, 0, 0, 0, 0, 0, 0, 0, 0, 0, 0, 0, 0, 0, 0, 0, 0, 0, 0, 0, 0, 0,\n",
              "       0, 0, 0, 0, 0, 0, 1, 1, 1, 1, 1, 1, 1, 1, 1, 1, 1, 1, 1, 1, 1, 1,\n",
              "       1, 1, 1, 1, 1, 1, 1, 1, 1, 1, 1, 1, 1, 1, 1, 1, 1, 1, 1, 1, 1, 1,\n",
              "       1, 1, 1, 1, 1, 1, 1, 1, 1, 1, 1, 1, 2, 2, 2, 2, 2, 2, 2, 2, 2, 2,\n",
              "       2, 2, 2, 2, 2, 2, 2, 2, 2, 2, 2, 2, 2, 2, 2, 2, 2, 2, 2, 2, 2, 2,\n",
              "       2, 2, 2, 2, 2, 2, 2, 2, 2, 2, 2, 2, 2, 2, 2, 2, 2, 2])"
            ]
          },
          "metadata": {},
          "execution_count": 112
        }
      ]
    },
    {
      "cell_type": "code",
      "source": [
        "import matplotlib.pyplot as plt"
      ],
      "metadata": {
        "id": "YTacV7Ik_saA"
      },
      "execution_count": 113,
      "outputs": []
    },
    {
      "cell_type": "code",
      "source": [
        "X = iris.data\n",
        "y = iris.target"
      ],
      "metadata": {
        "id": "YNML-YLx_w8O"
      },
      "execution_count": 114,
      "outputs": []
    },
    {
      "cell_type": "code",
      "source": [
        "X.shape"
      ],
      "metadata": {
        "colab": {
          "base_uri": "https://localhost:8080/"
        },
        "id": "Cwj5mG2sAQ3F",
        "outputId": "e6c8e374-777c-4f40-f594-0dfa0724f3cc"
      },
      "execution_count": 115,
      "outputs": [
        {
          "output_type": "execute_result",
          "data": {
            "text/plain": [
              "(150, 4)"
            ]
          },
          "metadata": {},
          "execution_count": 115
        }
      ]
    },
    {
      "cell_type": "code",
      "source": [
        "plt.plot(X[y==0, 2], X[y==0,3], 'yo', label = 'Setosa')\n",
        "plt.plot(X[y==1, 2], X[y==1,3], 'bs', label = 'Versicolor')\n",
        "plt.plot(X[y==2, 2], X[y==2,3], 'g^', label = 'verginica')\n",
        "plt.legend()\n",
        "plt.xlabel(\"Petal Length\")\n",
        "plt.ylabel(\"Petal width\")\n",
        "plt.show()"
      ],
      "metadata": {
        "colab": {
          "base_uri": "https://localhost:8080/",
          "height": 279
        },
        "id": "OJooO0Zd_3gm",
        "outputId": "1cc761bd-8237-40b3-a979-0dc81ca91be5"
      },
      "execution_count": 116,
      "outputs": [
        {
          "output_type": "display_data",
          "data": {
            "text/plain": [
              "<Figure size 432x288 with 1 Axes>"
            ],
            "image/png": "[encoded data removed]"
          },
          "metadata": {
            "needs_background": "light"
          }
        }
      ]
    },
    {
      "cell_type": "code",
      "source": [
        "from sklearn.model_selection import train_test_split\n",
        "from sklearn.preprocessing import StandardScaler"
      ],
      "metadata": {
        "id": "Lxqo2b-wAJuT"
      },
      "execution_count": 117,
      "outputs": []
    },
    {
      "cell_type": "code",
      "source": [
        "X_train, X_test, y_train, y_test = train_test_split(X, y, test_size=0.3, random_state=58, stratify=y) #stratify is used to balance the categories in the data to have a balanced training set (it shuffles). You can also do it manually which is better"
      ],
      "metadata": {
        "id": "knO3MHuGB0WK"
      },
      "execution_count": 118,
      "outputs": []
    },
    {
      "cell_type": "code",
      "source": [
        "sc = StandardScaler()"
      ],
      "metadata": {
        "id": "g867J77gCjM0"
      },
      "execution_count": 119,
      "outputs": []
    },
    {
      "cell_type": "code",
      "source": [
        "sc.fit(X_train)"
      ],
      "metadata": {
        "colab": {
          "base_uri": "https://localhost:8080/"
        },
        "id": "8YtyWbx0C34G",
        "outputId": "e6e28966-1c53-40f8-d483-faaab43449d9"
      },
      "execution_count": 120,
      "outputs": [
        {
          "output_type": "execute_result",
          "data": {
            "text/plain": [
              "StandardScaler()"
            ]
          },
          "metadata": {},
          "execution_count": 120
        }
      ]
    },
    {
      "cell_type": "code",
      "source": [
        "X_train_std = sc.transform(X_train)\n",
        "X_test_std = sc.transform(X_test)"
      ],
      "metadata": {
        "id": "Pb9gISjnC6Im"
      },
      "execution_count": 121,
      "outputs": []
    },
    {
      "cell_type": "code",
      "source": [
        "X_train"
      ],
      "metadata": {
        "colab": {
          "base_uri": "https://localhost:8080/"
        },
        "id": "tMUl85-vDJyz",
        "outputId": "407a618c-ccda-422e-8292-20e5f0d33e35"
      },
      "execution_count": 122,
      "outputs": [
        {
          "output_type": "execute_result",
          "data": {
            "text/plain": [
              "array([[5.5, 4.2, 1.4, 0.2],\n",
              "       [5.4, 3.4, 1.7, 0.2],\n",
              "       [6.4, 3.2, 5.3, 2.3],\n",
              "       [6.7, 3.3, 5.7, 2.1],\n",
              "       [5. , 3.2, 1.2, 0.2],\n",
              "       [6.7, 3.1, 5.6, 2.4],\n",
              "       [7.6, 3. , 6.6, 2.1],\n",
              "       [5.8, 4. , 1.2, 0.2],\n",
              "       [7.2, 3. , 5.8, 1.6],\n",
              "       [6.6, 2.9, 4.6, 1.3],\n",
              "       [5. , 2.3, 3.3, 1. ],\n",
              "       [5.2, 2.7, 3.9, 1.4],\n",
              "       [4.7, 3.2, 1.3, 0.2],\n",
              "       [6.1, 2.8, 4.7, 1.2],\n",
              "       [5.5, 2.5, 4. , 1.3],\n",
              "       [5.8, 2.7, 5.1, 1.9],\n",
              "       [4.8, 3.4, 1.9, 0.2],\n",
              "       [5. , 2. , 3.5, 1. ],\n",
              "       [5.8, 2.7, 3.9, 1.2],\n",
              "       [4.7, 3.2, 1.6, 0.2],\n",
              "       [6.2, 2.8, 4.8, 1.8],\n",
              "       [7.7, 2.6, 6.9, 2.3],\n",
              "       [6.4, 3.2, 4.5, 1.5],\n",
              "       [5.7, 2.8, 4.5, 1.3],\n",
              "       [5.5, 2.4, 3.8, 1.1],\n",
              "       [6.3, 3.4, 5.6, 2.4],\n",
              "       [6.1, 2.9, 4.7, 1.4],\n",
              "       [6.1, 2.6, 5.6, 1.4],\n",
              "       [6.5, 3. , 5.8, 2.2],\n",
              "       [5.8, 2.8, 5.1, 2.4],\n",
              "       [5.7, 2.8, 4.1, 1.3],\n",
              "       [5.1, 3.7, 1.5, 0.4],\n",
              "       [7.7, 3.8, 6.7, 2.2],\n",
              "       [6.3, 2.5, 5. , 1.9],\n",
              "       [6. , 3. , 4.8, 1.8],\n",
              "       [6.4, 2.8, 5.6, 2.1],\n",
              "       [5.9, 3. , 4.2, 1.5],\n",
              "       [7.7, 2.8, 6.7, 2. ],\n",
              "       [6.4, 3.1, 5.5, 1.8],\n",
              "       [5.1, 3.8, 1.6, 0.2],\n",
              "       [6.3, 2.7, 4.9, 1.8],\n",
              "       [5.2, 3.4, 1.4, 0.2],\n",
              "       [6.3, 2.8, 5.1, 1.5],\n",
              "       [5.1, 3.8, 1.9, 0.4],\n",
              "       [4.6, 3.6, 1. , 0.2],\n",
              "       [6.3, 2.5, 4.9, 1.5],\n",
              "       [4.9, 3.1, 1.5, 0.2],\n",
              "       [4.3, 3. , 1.1, 0.1],\n",
              "       [6.5, 3. , 5.5, 1.8],\n",
              "       [6.7, 3.1, 4.7, 1.5],\n",
              "       [5.7, 3.8, 1.7, 0.3],\n",
              "       [5.7, 2.6, 3.5, 1. ],\n",
              "       [5.8, 2.7, 4.1, 1. ],\n",
              "       [5.1, 3.4, 1.5, 0.2],\n",
              "       [5.4, 3.7, 1.5, 0.2],\n",
              "       [5.2, 3.5, 1.5, 0.2],\n",
              "       [5.5, 2.4, 3.7, 1. ],\n",
              "       [7.2, 3.6, 6.1, 2.5],\n",
              "       [5. , 3.5, 1.3, 0.3],\n",
              "       [6.9, 3.1, 4.9, 1.5],\n",
              "       [4.4, 3. , 1.3, 0.2],\n",
              "       [6. , 3.4, 4.5, 1.6],\n",
              "       [7.2, 3.2, 6. , 1.8],\n",
              "       [4.8, 3.1, 1.6, 0.2],\n",
              "       [5. , 3.3, 1.4, 0.2],\n",
              "       [5.5, 2.6, 4.4, 1.2],\n",
              "       [5.8, 2.7, 5.1, 1.9],\n",
              "       [5.6, 2.9, 3.6, 1.3],\n",
              "       [5.6, 3. , 4.1, 1.3],\n",
              "       [5.9, 3.2, 4.8, 1.8],\n",
              "       [7.7, 3. , 6.1, 2.3],\n",
              "       [6. , 2.9, 4.5, 1.5],\n",
              "       [5.4, 3. , 4.5, 1.5],\n",
              "       [6.9, 3.1, 5.4, 2.1],\n",
              "       [6.4, 2.8, 5.6, 2.2],\n",
              "       [6.1, 3. , 4.6, 1.4],\n",
              "       [5.4, 3.4, 1.5, 0.4],\n",
              "       [5.1, 3.3, 1.7, 0.5],\n",
              "       [7.4, 2.8, 6.1, 1.9],\n",
              "       [6. , 2.7, 5.1, 1.6],\n",
              "       [7.9, 3.8, 6.4, 2. ],\n",
              "       [6. , 2.2, 5. , 1.5],\n",
              "       [5.3, 3.7, 1.5, 0.2],\n",
              "       [5.7, 2.9, 4.2, 1.3],\n",
              "       [6.5, 3.2, 5.1, 2. ],\n",
              "       [6.3, 3.3, 6. , 2.5],\n",
              "       [5.1, 3.8, 1.5, 0.3],\n",
              "       [5. , 3.6, 1.4, 0.2],\n",
              "       [6.3, 2.9, 5.6, 1.8],\n",
              "       [5.1, 3.5, 1.4, 0.3],\n",
              "       [6.8, 3.2, 5.9, 2.3],\n",
              "       [5.6, 2.5, 3.9, 1.1],\n",
              "       [5.7, 3. , 4.2, 1.2],\n",
              "       [6.2, 2.9, 4.3, 1.3],\n",
              "       [5.2, 4.1, 1.5, 0.1],\n",
              "       [6.7, 3. , 5.2, 2.3],\n",
              "       [6.3, 2.3, 4.4, 1.3],\n",
              "       [5.5, 3.5, 1.3, 0.2],\n",
              "       [4.8, 3. , 1.4, 0.3],\n",
              "       [6.7, 3. , 5. , 1.7],\n",
              "       [4.5, 2.3, 1.3, 0.3],\n",
              "       [5.8, 2.6, 4. , 1.2],\n",
              "       [5. , 3.4, 1.6, 0.4],\n",
              "       [4.6, 3.1, 1.5, 0.2],\n",
              "       [4.4, 3.2, 1.3, 0.2]])"
            ]
          },
          "metadata": {},
          "execution_count": 122
        }
      ]
    },
    {
      "cell_type": "code",
      "source": [
        "# now let's standarazie"
      ],
      "metadata": {
        "id": "WIrTW8G2DLIg"
      },
      "execution_count": 123,
      "outputs": []
    },
    {
      "cell_type": "code",
      "source": [
        "X_train_std"
      ],
      "metadata": {
        "colab": {
          "base_uri": "https://localhost:8080/"
        },
        "id": "hm5p-fxsDPjo",
        "outputId": "3dcad430-16bc-412a-93b1-af89b9bd270c"
      },
      "execution_count": 124,
      "outputs": [
        {
          "output_type": "execute_result",
          "data": {
            "text/plain": [
              "array([[-0.4301064 ,  2.63118533, -1.33269725, -1.30728421],\n",
              "       [-0.55053619,  0.76918392, -1.16537974, -1.30728421],\n",
              "       [ 0.65376173,  0.30368356,  0.84243039,  1.44587881],\n",
              "       [ 1.0150511 ,  0.53643374,  1.0655204 ,  1.18367281],\n",
              "       [-1.03225536,  0.30368356, -1.44424226, -1.30728421],\n",
              "       [ 1.0150511 ,  0.07093339,  1.0097479 ,  1.57698181],\n",
              "       [ 2.09891923, -0.16181679,  1.56747294,  1.18367281],\n",
              "       [-0.06881702,  2.16568498, -1.44424226, -1.30728421],\n",
              "       [ 1.61720006, -0.16181679,  1.12129291,  0.5281578 ],\n",
              "       [ 0.89462131, -0.39456697,  0.45202286,  0.1348488 ],\n",
              "       [-1.03225536, -1.79106803, -0.27301968, -0.2584602 ],\n",
              "       [-0.79139578, -0.86006732,  0.06161534,  0.2659518 ],\n",
              "       [-1.39354474,  0.30368356, -1.38846976, -1.30728421],\n",
              "       [ 0.29247235, -0.62731714,  0.50779537,  0.0037458 ],\n",
              "       [-0.4301064 , -1.32556767,  0.11738784,  0.1348488 ],\n",
              "       [-0.06881702, -0.86006732,  0.73088538,  0.92146681],\n",
              "       [-1.27311494,  0.76918392, -1.05383474, -1.30728421],\n",
              "       [-1.03225536, -2.48931856, -0.16147468, -0.2584602 ],\n",
              "       [-0.06881702, -0.86006732,  0.06161534,  0.0037458 ],\n",
              "       [-1.39354474,  0.30368356, -1.22115225, -1.30728421],\n",
              "       [ 0.41290214, -0.62731714,  0.56356787,  0.79036381],\n",
              "       [ 2.21934902, -1.0928175 ,  1.73479045,  1.44587881],\n",
              "       [ 0.65376173,  0.30368356,  0.39625036,  0.3970548 ],\n",
              "       [-0.18924682, -0.62731714,  0.39625036,  0.1348488 ],\n",
              "       [-0.4301064 , -1.55831785,  0.00584283, -0.1273572 ],\n",
              "       [ 0.53333194,  0.76918392,  1.0097479 ,  1.57698181],\n",
              "       [ 0.29247235, -0.39456697,  0.50779537,  0.2659518 ],\n",
              "       [ 0.29247235, -1.0928175 ,  1.0097479 ,  0.2659518 ],\n",
              "       [ 0.77419152, -0.16181679,  1.12129291,  1.31477581],\n",
              "       [-0.06881702, -0.62731714,  0.73088538,  1.57698181],\n",
              "       [-0.18924682, -0.62731714,  0.17316034,  0.1348488 ],\n",
              "       [-0.91182557,  1.46743445, -1.27692475, -1.04507821],\n",
              "       [ 2.21934902,  1.70018463,  1.62324544,  1.31477581],\n",
              "       [ 0.53333194, -1.32556767,  0.67511288,  0.92146681],\n",
              "       [ 0.17204256, -0.16181679,  0.56356787,  0.79036381],\n",
              "       [ 0.65376173, -0.62731714,  1.0097479 ,  1.18367281],\n",
              "       [ 0.05161277, -0.16181679,  0.22893285,  0.3970548 ],\n",
              "       [ 2.21934902, -0.62731714,  1.62324544,  1.05256981],\n",
              "       [ 0.65376173,  0.07093339,  0.9539754 ,  0.79036381],\n",
              "       [-0.91182557,  1.70018463, -1.22115225, -1.30728421],\n",
              "       [ 0.53333194, -0.86006732,  0.61934037,  0.79036381],\n",
              "       [-0.79139578,  0.76918392, -1.33269725, -1.30728421],\n",
              "       [ 0.53333194, -0.62731714,  0.73088538,  0.3970548 ],\n",
              "       [-0.91182557,  1.70018463, -1.05383474, -1.04507821],\n",
              "       [-1.51397453,  1.23468427, -1.55578727, -1.30728421],\n",
              "       [ 0.53333194, -1.32556767,  0.61934037,  0.3970548 ],\n",
              "       [-1.15268515,  0.07093339, -1.27692475, -1.30728421],\n",
              "       [-1.8752639 , -0.16181679, -1.50001477, -1.43838721],\n",
              "       [ 0.77419152, -0.16181679,  0.9539754 ,  0.79036381],\n",
              "       [ 1.0150511 ,  0.07093339,  0.50779537,  0.3970548 ],\n",
              "       [-0.18924682,  1.70018463, -1.16537974, -1.17618121],\n",
              "       [-0.18924682, -1.0928175 , -0.16147468, -0.2584602 ],\n",
              "       [-0.06881702, -0.86006732,  0.17316034, -0.2584602 ],\n",
              "       [-0.91182557,  0.76918392, -1.27692475, -1.30728421],\n",
              "       [-0.55053619,  1.46743445, -1.27692475, -1.30728421],\n",
              "       [-0.79139578,  1.0019341 , -1.27692475, -1.30728421],\n",
              "       [-0.4301064 , -1.55831785, -0.04992967, -0.2584602 ],\n",
              "       [ 1.61720006,  1.23468427,  1.28861042,  1.70808482],\n",
              "       [-1.03225536,  1.0019341 , -1.38846976, -1.17618121],\n",
              "       [ 1.25591069,  0.07093339,  0.61934037,  0.3970548 ],\n",
              "       [-1.75483411, -0.16181679, -1.38846976, -1.30728421],\n",
              "       [ 0.17204256,  0.76918392,  0.39625036,  0.5281578 ],\n",
              "       [ 1.61720006,  0.30368356,  1.23283791,  0.79036381],\n",
              "       [-1.27311494,  0.07093339, -1.22115225, -1.30728421],\n",
              "       [-1.03225536,  0.53643374, -1.33269725, -1.30728421],\n",
              "       [-0.4301064 , -1.0928175 ,  0.34047786,  0.0037458 ],\n",
              "       [-0.06881702, -0.86006732,  0.73088538,  0.92146681],\n",
              "       [-0.30967661, -0.39456697, -0.10570217,  0.1348488 ],\n",
              "       [-0.30967661, -0.16181679,  0.17316034,  0.1348488 ],\n",
              "       [ 0.05161277,  0.30368356,  0.56356787,  0.79036381],\n",
              "       [ 2.21934902, -0.16181679,  1.28861042,  1.44587881],\n",
              "       [ 0.17204256, -0.39456697,  0.39625036,  0.3970548 ],\n",
              "       [-0.55053619, -0.16181679,  0.39625036,  0.3970548 ],\n",
              "       [ 1.25591069,  0.07093339,  0.89820289,  1.18367281],\n",
              "       [ 0.65376173, -0.62731714,  1.0097479 ,  1.31477581],\n",
              "       [ 0.29247235, -0.16181679,  0.45202286,  0.2659518 ],\n",
              "       [-0.55053619,  0.76918392, -1.27692475, -1.04507821],\n",
              "       [-0.91182557,  0.53643374, -1.16537974, -0.91397521],\n",
              "       [ 1.85805965, -0.62731714,  1.28861042,  0.92146681],\n",
              "       [ 0.17204256, -0.86006732,  0.73088538,  0.5281578 ],\n",
              "       [ 2.46020861,  1.70018463,  1.45592793,  1.05256981],\n",
              "       [ 0.17204256, -2.02381821,  0.67511288,  0.3970548 ],\n",
              "       [-0.67096598,  1.46743445, -1.27692475, -1.30728421],\n",
              "       [-0.18924682, -0.39456697,  0.22893285,  0.1348488 ],\n",
              "       [ 0.77419152,  0.30368356,  0.73088538,  1.05256981],\n",
              "       [ 0.53333194,  0.53643374,  1.23283791,  1.70808482],\n",
              "       [-0.91182557,  1.70018463, -1.27692475, -1.17618121],\n",
              "       [-1.03225536,  1.23468427, -1.33269725, -1.30728421],\n",
              "       [ 0.53333194, -0.39456697,  1.0097479 ,  0.79036381],\n",
              "       [-0.91182557,  1.0019341 , -1.33269725, -1.17618121],\n",
              "       [ 1.1354809 ,  0.30368356,  1.17706541,  1.44587881],\n",
              "       [-0.30967661, -1.32556767,  0.06161534, -0.1273572 ],\n",
              "       [-0.18924682, -0.16181679,  0.22893285,  0.0037458 ],\n",
              "       [ 0.41290214, -0.39456697,  0.28470535,  0.1348488 ],\n",
              "       [-0.79139578,  2.39843516, -1.27692475, -1.43838721],\n",
              "       [ 1.0150511 , -0.16181679,  0.78665788,  1.44587881],\n",
              "       [ 0.53333194, -1.79106803,  0.34047786,  0.1348488 ],\n",
              "       [-0.4301064 ,  1.0019341 , -1.38846976, -1.30728421],\n",
              "       [-1.27311494, -0.16181679, -1.33269725, -1.17618121],\n",
              "       [ 1.0150511 , -0.16181679,  0.67511288,  0.65926081],\n",
              "       [-1.63440432, -1.79106803, -1.38846976, -1.17618121],\n",
              "       [-0.06881702, -1.0928175 ,  0.11738784,  0.0037458 ],\n",
              "       [-1.03225536,  0.76918392, -1.22115225, -1.04507821],\n",
              "       [-1.51397453,  0.07093339, -1.27692475, -1.30728421],\n",
              "       [-1.75483411,  0.30368356, -1.38846976, -1.30728421]])"
            ]
          },
          "metadata": {},
          "execution_count": 124
        }
      ]
    },
    {
      "cell_type": "markdown",
      "source": [
        "SVM model"
      ],
      "metadata": {
        "id": "xvVRnsnHDYOF"
      }
    },
    {
      "cell_type": "code",
      "source": [
        "from sklearn.svm import SVC # support vector specifier\n",
        "from sklearn.metrics import accuracy_score\n",
        "from sklearn.metrics import confusion_matrix\n",
        "from sklearn.metrics import classification_report"
      ],
      "metadata": {
        "id": "XxVY5IGmDQvJ"
      },
      "execution_count": 125,
      "outputs": []
    },
    {
      "cell_type": "code",
      "source": [
        "svm = SVC(kernel = 'linear', random_state=58, C=100) # The lower the c, the less the accuracy. The more the c, the more accuracy. Doesn't mean it's better. The margin allows less misclassification. If you give random_state=1 here and earlier, all will be all correct"
      ],
      "metadata": {
        "id": "Facljxi3DdgT"
      },
      "execution_count": 126,
      "outputs": []
    },
    {
      "cell_type": "code",
      "source": [
        "svm.fit(X_train_std, y_train) # you shouldn't standarize the y"
      ],
      "metadata": {
        "colab": {
          "base_uri": "https://localhost:8080/"
        },
        "id": "VE5VYrFzD9Av",
        "outputId": "ea277a30-b0e8-4191-b2c4-87f78088143e"
      },
      "execution_count": 127,
      "outputs": [
        {
          "output_type": "execute_result",
          "data": {
            "text/plain": [
              "SVC(C=100, kernel='linear', random_state=58)"
            ]
          },
          "metadata": {},
          "execution_count": 127
        }
      ]
    },
    {
      "cell_type": "code",
      "source": [
        "y_pred = svm.predict(X_test_std)"
      ],
      "metadata": {
        "id": "e_HNB7bWEGgw"
      },
      "execution_count": 128,
      "outputs": []
    },
    {
      "cell_type": "code",
      "source": [
        "y_pred"
      ],
      "metadata": {
        "colab": {
          "base_uri": "https://localhost:8080/"
        },
        "id": "IksvjCP8EOLn",
        "outputId": "bec17fbc-eab5-409c-fe26-bc03397281de"
      },
      "execution_count": 129,
      "outputs": [
        {
          "output_type": "execute_result",
          "data": {
            "text/plain": [
              "array([2, 0, 0, 2, 1, 1, 2, 1, 2, 0, 0, 2, 0, 1, 0, 1, 2, 1, 1, 2, 2, 0,\n",
              "       1, 2, 1, 1, 1, 2, 0, 2, 0, 0, 1, 1, 2, 2, 0, 0, 0, 1, 2, 2, 1, 0,\n",
              "       0])"
            ]
          },
          "metadata": {},
          "execution_count": 129
        }
      ]
    },
    {
      "cell_type": "code",
      "source": [
        "acc = accuracy_score(y_test, y_pred)"
      ],
      "metadata": {
        "id": "mrpKK0HbEQZS"
      },
      "execution_count": 130,
      "outputs": []
    },
    {
      "cell_type": "code",
      "source": [
        "acc"
      ],
      "metadata": {
        "colab": {
          "base_uri": "https://localhost:8080/"
        },
        "id": "pmlZ1CeYEcqk",
        "outputId": "3deb6aea-0d89-414a-a602-038b562157bc"
      },
      "execution_count": 131,
      "outputs": [
        {
          "output_type": "execute_result",
          "data": {
            "text/plain": [
              "1.0"
            ]
          },
          "metadata": {},
          "execution_count": 131
        }
      ]
    },
    {
      "cell_type": "code",
      "source": [
        "from sklearn.model_selection import cross_val_score"
      ],
      "metadata": {
        "id": "WOKC7PUHEd5O"
      },
      "execution_count": 132,
      "outputs": []
    },
    {
      "cell_type": "code",
      "source": [
        "score = cross_val_score(svm, X_train_std, y_train, cv=10, scoring = 'accuracy')"
      ],
      "metadata": {
        "id": "d83wFkQ4EqbM"
      },
      "execution_count": 133,
      "outputs": []
    },
    {
      "cell_type": "code",
      "source": [
        "score"
      ],
      "metadata": {
        "colab": {
          "base_uri": "https://localhost:8080/"
        },
        "id": "zDWQPhNVE8_R",
        "outputId": "cfafd42f-1ce5-47ba-eccf-ccc10d9cdf66"
      },
      "execution_count": 134,
      "outputs": [
        {
          "output_type": "execute_result",
          "data": {
            "text/plain": [
              "array([1.        , 1.        , 1.        , 0.90909091, 0.90909091,\n",
              "       1.        , 0.9       , 0.9       , 1.        , 0.9       ])"
            ]
          },
          "metadata": {},
          "execution_count": 134
        }
      ]
    },
    {
      "cell_type": "code",
      "source": [
        "score.mean()"
      ],
      "metadata": {
        "colab": {
          "base_uri": "https://localhost:8080/"
        },
        "id": "rOJjDE6vE9mZ",
        "outputId": "21db9b06-4319-463a-9e95-b7de7c25f6e5"
      },
      "execution_count": 135,
      "outputs": [
        {
          "output_type": "execute_result",
          "data": {
            "text/plain": [
              "0.9518181818181818"
            ]
          },
          "metadata": {},
          "execution_count": 135
        }
      ]
    },
    {
      "cell_type": "code",
      "source": [
        "import seaborn as sns"
      ],
      "metadata": {
        "id": "rsHRpJ7TFL8W"
      },
      "execution_count": 136,
      "outputs": []
    },
    {
      "cell_type": "code",
      "source": [
        "cm = confusion_matrix(y_test, y_pred)"
      ],
      "metadata": {
        "id": "MaiqHaYmG9yx"
      },
      "execution_count": 137,
      "outputs": []
    },
    {
      "cell_type": "code",
      "source": [
        "cm_df = pd.DataFrame(cm,\n",
        "                    index = ['Setosa', 'Versicolor', 'Verginica'],\n",
        "                    columns = ['Setosa', 'Versicolor', 'Verginica'])"
      ],
      "metadata": {
        "id": "sGD3E8kEGLbA"
      },
      "execution_count": 138,
      "outputs": []
    },
    {
      "cell_type": "code",
      "source": [
        "sns.heatmap(cm_df, annot=True)\n",
        "plt.xlabel(\"Predicted Values\")\n",
        "plt.ylabel(\"Actual Values\")\n",
        "plt.show()"
      ],
      "metadata": {
        "colab": {
          "base_uri": "https://localhost:8080/",
          "height": 279
        },
        "id": "05sRjkycGNe7",
        "outputId": "ae972c58-b29e-45c6-82ed-c24703f8a981"
      },
      "execution_count": 139,
      "outputs": [
        {
          "output_type": "display_data",
          "data": {
            "text/plain": [
              "<Figure size 432x288 with 2 Axes>"
            ],
            "image/png": "[encoded data removed]"
          },
          "metadata": {
            "needs_background": "light"
          }
        }
      ]
    },
    {
      "cell_type": "markdown",
      "source": [
        "Grid Search Parameters"
      ],
      "metadata": {
        "id": "UV-M2_CqEZGl"
      }
    },
    {
      "cell_type": "code",
      "source": [
        "param_grid_svm = {\n",
        "    'C': [0.1, 1, 10, 100],\n",
        "    'gamma': [1, 0.1, 0.01, 0.001],\n",
        "    'kernel': ['rbf', 'poly', 'sigmoid']\n",
        "}"
      ],
      "metadata": {
        "id": "pPB-IlSrHOH4"
      },
      "execution_count": 149,
      "outputs": []
    },
    {
      "cell_type": "code",
      "source": [
        "# Hypertuning using the param grid\n",
        "\n",
        "from sklearn.model_selection import GridSearchCV"
      ],
      "metadata": {
        "id": "GC74hO70ERmQ"
      },
      "execution_count": 150,
      "outputs": []
    },
    {
      "cell_type": "code",
      "source": [
        "svm_model_grid = GridSearchCV(estimator=SVC(random_state=58), param_grid=param_grid_svm, verbose=1, cv=10, n_jobs=-1) #verbose by default is 0, cv is 10 folds, n_jobs is how many processors to be used, if you don't know, put -1"
      ],
      "metadata": {
        "id": "tkrszeE0EYI5"
      },
      "execution_count": 151,
      "outputs": []
    },
    {
      "cell_type": "code",
      "source": [
        "svm_model_grid.fit(X_train, y_train)"
      ],
      "metadata": {
        "colab": {
          "base_uri": "https://localhost:8080/"
        },
        "id": "YA5iIdanFBTW",
        "outputId": "637de78a-f340-4132-9f60-ac5fee6a1b41"
      },
      "execution_count": 152,
      "outputs": [
        {
          "output_type": "stream",
          "name": "stdout",
          "text": [
            "Fitting 10 folds for each of 48 candidates, totalling 480 fits\n"
          ]
        },
        {
          "output_type": "execute_result",
          "data": {
            "text/plain": [
              "GridSearchCV(cv=10, estimator=SVC(random_state=58), n_jobs=-1,\n",
              "             param_grid={'C': [0.1, 1, 10, 100], 'gamma': [1, 0.1, 0.01, 0.001],\n",
              "                         'kernel': ['rbf', 'poly', 'sigmoid']},\n",
              "             verbose=1)"
            ]
          },
          "metadata": {},
          "execution_count": 152
        }
      ]
    },
    {
      "cell_type": "code",
      "source": [
        "svm_model_grid.best_params_"
      ],
      "metadata": {
        "colab": {
          "base_uri": "https://localhost:8080/"
        },
        "id": "9B1llZeRFIDJ",
        "outputId": "9df6530e-e786-4ab7-86c3-eb7fcdeb467f"
      },
      "execution_count": 153,
      "outputs": [
        {
          "output_type": "execute_result",
          "data": {
            "text/plain": [
              "{'C': 10, 'gamma': 0.01, 'kernel': 'rbf'}"
            ]
          },
          "metadata": {},
          "execution_count": 153
        }
      ]
    },
    {
      "cell_type": "code",
      "source": [
        "y_pred_grid = svm_model_grid.predict(X_test)"
      ],
      "metadata": {
        "id": "6S9ub19SFRc4"
      },
      "execution_count": 157,
      "outputs": []
    },
    {
      "cell_type": "code",
      "source": [
        "accuracy_score(y_test, y_pred_grid)"
      ],
      "metadata": {
        "colab": {
          "base_uri": "https://localhost:8080/"
        },
        "id": "onc1_hSRFpps",
        "outputId": "b1d4cc41-b05e-4ed4-8560-748998784ab7"
      },
      "execution_count": 158,
      "outputs": [
        {
          "output_type": "execute_result",
          "data": {
            "text/plain": [
              "0.9777777777777777"
            ]
          },
          "metadata": {},
          "execution_count": 158
        }
      ]
    },
    {
      "cell_type": "code",
      "source": [
        "score = cross_val_score(svm_model_grid, X_train, y_train)"
      ],
      "metadata": {
        "colab": {
          "base_uri": "https://localhost:8080/"
        },
        "id": "fcRTAFEPF-uU",
        "outputId": "154da144-ebec-4431-dffa-312246b467d6"
      },
      "execution_count": 159,
      "outputs": [
        {
          "output_type": "stream",
          "name": "stdout",
          "text": [
            "Fitting 10 folds for each of 48 candidates, totalling 480 fits\n",
            "Fitting 10 folds for each of 48 candidates, totalling 480 fits\n",
            "Fitting 10 folds for each of 48 candidates, totalling 480 fits\n",
            "Fitting 10 folds for each of 48 candidates, totalling 480 fits\n",
            "Fitting 10 folds for each of 48 candidates, totalling 480 fits\n"
          ]
        }
      ]
    },
    {
      "cell_type": "code",
      "source": [
        "score"
      ],
      "metadata": {
        "colab": {
          "base_uri": "https://localhost:8080/"
        },
        "id": "LWAI3LsLGJbF",
        "outputId": "a47b6c6d-fc6c-4afe-f471-678a5ec1f077"
      },
      "execution_count": 160,
      "outputs": [
        {
          "output_type": "execute_result",
          "data": {
            "text/plain": [
              "array([0.95238095, 0.95238095, 0.95238095, 0.85714286, 0.9047619 ])"
            ]
          },
          "metadata": {},
          "execution_count": 160
        }
      ]
    },
    {
      "cell_type": "code",
      "source": [],
      "metadata": {
        "id": "-lzCC6oYGN_U"
      },
      "execution_count": null,
      "outputs": []
    }
  ]
}