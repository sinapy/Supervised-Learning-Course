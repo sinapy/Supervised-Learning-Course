{
  "nbformat": 4,
  "nbformat_minor": 0,
  "metadata": {
    "colab": {
      "provenance": [],
      "authorship_tag": "ABX9TyMjYq+mctKadqketkBd0tb3",
      "include_colab_link": true
    },
    "kernelspec": {
      "name": "python3",
      "display_name": "Python 3"
    },
    "language_info": {
      "name": "python"
    }
  },
  "cells": [
    {
      "cell_type": "markdown",
      "metadata": {
        "id": "view-in-github",
        "colab_type": "text"
      },
      "source": [
        "<a href=\"https://colab.research.google.com/github/sinapy/Supervised-Learning-Course/blob/main/SVMDemo.ipynb\" target=\"_parent\"><img src=\"https://colab.research.google.com/assets/colab-badge.svg\" alt=\"Open In Colab\"/></a>"
      ]
    },
    {
      "cell_type": "code",
      "execution_count": 171,
      "metadata": {
        "id": "1lwl1q8W_MPl"
      },
      "outputs": [],
      "source": [
        "import numpy as np\n",
        "import pandas as pd\n",
        "from sklearn import datasets"
      ]
    },
    {
      "cell_type": "code",
      "source": [
        "iris = datasets.load_iris()"
      ],
      "metadata": {
        "id": "ytMmdHHN_ekb"
      },
      "execution_count": 172,
      "outputs": []
    },
    {
      "cell_type": "code",
      "source": [
        "dir(iris)"
      ],
      "metadata": {
        "colab": {
          "base_uri": "https://localhost:8080/"
        },
        "id": "wIYvPiLa_lkJ",
        "outputId": "8bc14cbf-8010-4ba5-ff48-2f6ac1f4b6cf"
      },
      "execution_count": 173,
      "outputs": [
        {
          "output_type": "execute_result",
          "data": {
            "text/plain": [
              "['DESCR',\n",
              " 'data',\n",
              " 'data_module',\n",
              " 'feature_names',\n",
              " 'filename',\n",
              " 'frame',\n",
              " 'target',\n",
              " 'target_names']"
            ]
          },
          "metadata": {},
          "execution_count": 173
        }
      ]
    },
    {
      "cell_type": "code",
      "source": [
        "iris['feature_names']"
      ],
      "metadata": {
        "colab": {
          "base_uri": "https://localhost:8080/"
        },
        "id": "gsa0Npj__mmw",
        "outputId": "c1b9cb13-67f9-42db-c556-b361fa478969"
      },
      "execution_count": 174,
      "outputs": [
        {
          "output_type": "execute_result",
          "data": {
            "text/plain": [
              "['sepal length (cm)',\n",
              " 'sepal width (cm)',\n",
              " 'petal length (cm)',\n",
              " 'petal width (cm)']"
            ]
          },
          "metadata": {},
          "execution_count": 174
        }
      ]
    },
    {
      "cell_type": "code",
      "source": [
        "iris['target']"
      ],
      "metadata": {
        "colab": {
          "base_uri": "https://localhost:8080/"
        },
        "id": "39OVViqV_qcd",
        "outputId": "a2cbae7c-d60a-4e94-f77e-76a71255119b"
      },
      "execution_count": 175,
      "outputs": [
        {
          "output_type": "execute_result",
          "data": {
            "text/plain": [
              "array([0, 0, 0, 0, 0, 0, 0, 0, 0, 0, 0, 0, 0, 0, 0, 0, 0, 0, 0, 0, 0, 0,\n",
              "       0, 0, 0, 0, 0, 0, 0, 0, 0, 0, 0, 0, 0, 0, 0, 0, 0, 0, 0, 0, 0, 0,\n",
              "       0, 0, 0, 0, 0, 0, 1, 1, 1, 1, 1, 1, 1, 1, 1, 1, 1, 1, 1, 1, 1, 1,\n",
              "       1, 1, 1, 1, 1, 1, 1, 1, 1, 1, 1, 1, 1, 1, 1, 1, 1, 1, 1, 1, 1, 1,\n",
              "       1, 1, 1, 1, 1, 1, 1, 1, 1, 1, 1, 1, 2, 2, 2, 2, 2, 2, 2, 2, 2, 2,\n",
              "       2, 2, 2, 2, 2, 2, 2, 2, 2, 2, 2, 2, 2, 2, 2, 2, 2, 2, 2, 2, 2, 2,\n",
              "       2, 2, 2, 2, 2, 2, 2, 2, 2, 2, 2, 2, 2, 2, 2, 2, 2, 2])"
            ]
          },
          "metadata": {},
          "execution_count": 175
        }
      ]
    },
    {
      "cell_type": "code",
      "source": [
        "import matplotlib.pyplot as plt"
      ],
      "metadata": {
        "id": "YTacV7Ik_saA"
      },
      "execution_count": 176,
      "outputs": []
    },
    {
      "cell_type": "code",
      "source": [
        "X = iris.data\n",
        "y = iris.target"
      ],
      "metadata": {
        "id": "YNML-YLx_w8O"
      },
      "execution_count": 177,
      "outputs": []
    },
    {
      "cell_type": "code",
      "source": [
        "X.shape"
      ],
      "metadata": {
        "colab": {
          "base_uri": "https://localhost:8080/"
        },
        "id": "Cwj5mG2sAQ3F",
        "outputId": "20d60f2f-2129-4d1e-e0c7-2409ab9bbd0e"
      },
      "execution_count": 178,
      "outputs": [
        {
          "output_type": "execute_result",
          "data": {
            "text/plain": [
              "(150, 4)"
            ]
          },
          "metadata": {},
          "execution_count": 178
        }
      ]
    },
    {
      "cell_type": "code",
      "source": [
        "plt.plot(X[y==0, 2], X[y==0,3], 'yo', label = 'Setosa')\n",
        "plt.plot(X[y==1, 2], X[y==1,3], 'bs', label = 'Versicolor')\n",
        "plt.plot(X[y==2, 2], X[y==2,3], 'g^', label = 'verginica')\n",
        "plt.legend()\n",
        "plt.xlabel(\"Petal Length\")\n",
        "plt.ylabel(\"Petal width\")\n",
        "plt.show()"
      ],
      "metadata": {
        "colab": {
          "base_uri": "https://localhost:8080/",
          "height": 279
        },
        "id": "OJooO0Zd_3gm",
        "outputId": "b10ba8d7-2f3e-4880-b422-fb06305f55fe"
      },
      "execution_count": 179,
      "outputs": [
        {
          "output_type": "display_data",
          "data": {
            "text/plain": [
              "<Figure size 432x288 with 1 Axes>"
            ],
            "image/png": "[encoded data removed]"
          },
          "metadata": {
            "needs_background": "light"
          }
        }
      ]
    },
    {
      "cell_type": "code",
      "source": [
        "from sklearn.model_selection import train_test_split\n",
        "from sklearn.preprocessing import StandardScaler"
      ],
      "metadata": {
        "id": "Lxqo2b-wAJuT"
      },
      "execution_count": 180,
      "outputs": []
    },
    {
      "cell_type": "code",
      "source": [
        "X_train, X_test, y_train, y_test = train_test_split(X, y, test_size=0.3, random_state=58, stratify=y) #stratify is used to balance the categories in the data to have a balanced training set (it shuffles). You can also do it manually which is better"
      ],
      "metadata": {
        "id": "knO3MHuGB0WK"
      },
      "execution_count": 181,
      "outputs": []
    },
    {
      "cell_type": "code",
      "source": [
        "sc = StandardScaler()"
      ],
      "metadata": {
        "id": "g867J77gCjM0"
      },
      "execution_count": 182,
      "outputs": []
    },
    {
      "cell_type": "code",
      "source": [
        "sc.fit(X_train)"
      ],
      "metadata": {
        "colab": {
          "base_uri": "https://localhost:8080/"
        },
        "id": "8YtyWbx0C34G",
        "outputId": "1967dfb8-02af-421d-e2a2-df70d98fcc8b"
      },
      "execution_count": 183,
      "outputs": [
        {
          "output_type": "execute_result",
          "data": {
            "text/plain": [
              "StandardScaler()"
            ]
          },
          "metadata": {},
          "execution_count": 183
        }
      ]
    },
    {
      "cell_type": "code",
      "source": [
        "X_train_std = sc.transform(X_train)\n",
        "X_test_std = sc.transform(X_test)"
      ],
      "metadata": {
        "id": "Pb9gISjnC6Im"
      },
      "execution_count": 184,
      "outputs": []
    },
    {
      "cell_type": "code",
      "source": [
        "X_train"
      ],
      "metadata": {
        "colab": {
          "base_uri": "https://localhost:8080/"
        },
        "id": "tMUl85-vDJyz",
        "outputId": "e960b839-4bc7-4c54-f269-377c47c9db2b"
      },
      "execution_count": 185,
      "outputs": [
        {
          "output_type": "execute_result",
          "data": {
            "text/plain": [
              "array([[6. , 2.9, 4.5, 1.5],\n",
              "       [4.8, 3.4, 1.6, 0.2],\n",
              "       [4.4, 2.9, 1.4, 0.2],\n",
              "       [5.6, 3. , 4.5, 1.5],\n",
              "       [6.4, 2.7, 5.3, 1.9],\n",
              "       [5.4, 3. , 4.5, 1.5],\n",
              "       [6.2, 2.9, 4.3, 1.3],\n",
              "       [5.9, 3. , 5.1, 1.8],\n",
              "       [5.5, 2.5, 4. , 1.3],\n",
              "       [5.7, 2.6, 3.5, 1. ],\n",
              "       [5.5, 2.3, 4. , 1.3],\n",
              "       [6.3, 2.9, 5.6, 1.8],\n",
              "       [5.6, 2.9, 3.6, 1.3],\n",
              "       [5.1, 2.5, 3. , 1.1],\n",
              "       [6.1, 2.6, 5.6, 1.4],\n",
              "       [4.3, 3. , 1.1, 0.1],\n",
              "       [5.4, 3.9, 1.7, 0.4],\n",
              "       [5.6, 2.7, 4.2, 1.3],\n",
              "       [4.8, 3.4, 1.9, 0.2],\n",
              "       [6.4, 2.8, 5.6, 2.1],\n",
              "       [5.7, 2.8, 4.1, 1.3],\n",
              "       [6.5, 3. , 5.5, 1.8],\n",
              "       [5.7, 2.5, 5. , 2. ],\n",
              "       [7.7, 2.6, 6.9, 2.3],\n",
              "       [4.6, 3.1, 1.5, 0.2],\n",
              "       [5.3, 3.7, 1.5, 0.2],\n",
              "       [4.9, 3.1, 1.5, 0.1],\n",
              "       [6.7, 3. , 5. , 1.7],\n",
              "       [4.8, 3. , 1.4, 0.1],\n",
              "       [5.7, 4.4, 1.5, 0.4],\n",
              "       [6.8, 2.8, 4.8, 1.4],\n",
              "       [5.6, 2.5, 3.9, 1.1],\n",
              "       [7.7, 3.8, 6.7, 2.2],\n",
              "       [4.8, 3.1, 1.6, 0.2],\n",
              "       [4.5, 2.3, 1.3, 0.3],\n",
              "       [4.6, 3.2, 1.4, 0.2],\n",
              "       [6.8, 3. , 5.5, 2.1],\n",
              "       [6. , 2.2, 4. , 1. ],\n",
              "       [6.4, 3.2, 4.5, 1.5],\n",
              "       [6.5, 2.8, 4.6, 1.5],\n",
              "       [7.4, 2.8, 6.1, 1.9],\n",
              "       [5.1, 3.8, 1.5, 0.3],\n",
              "       [6.7, 3.1, 5.6, 2.4],\n",
              "       [5.4, 3.9, 1.3, 0.4],\n",
              "       [6.5, 3. , 5.2, 2. ],\n",
              "       [5.8, 2.7, 5.1, 1.9],\n",
              "       [5.6, 2.8, 4.9, 2. ],\n",
              "       [4.8, 3. , 1.4, 0.3],\n",
              "       [5.5, 2.4, 3.8, 1.1],\n",
              "       [5.8, 2.7, 5.1, 1.9],\n",
              "       [5.4, 3.7, 1.5, 0.2],\n",
              "       [5. , 2. , 3.5, 1. ],\n",
              "       [5.4, 3.4, 1.5, 0.4],\n",
              "       [4.4, 3.2, 1.3, 0.2],\n",
              "       [5. , 3.4, 1.5, 0.2],\n",
              "       [6.9, 3.1, 5.4, 2.1],\n",
              "       [6.4, 2.8, 5.6, 2.2],\n",
              "       [5.8, 2.7, 3.9, 1.2],\n",
              "       [7.7, 2.8, 6.7, 2. ],\n",
              "       [7. , 3.2, 4.7, 1.4],\n",
              "       [5.1, 3.5, 1.4, 0.3],\n",
              "       [5.2, 3.5, 1.5, 0.2],\n",
              "       [6.9, 3.2, 5.7, 2.3],\n",
              "       [6.3, 3.4, 5.6, 2.4],\n",
              "       [4.6, 3.4, 1.4, 0.3],\n",
              "       [6.7, 3. , 5.2, 2.3],\n",
              "       [6. , 3. , 4.8, 1.8],\n",
              "       [6.2, 2.8, 4.8, 1.8],\n",
              "       [6.5, 3. , 5.8, 2.2],\n",
              "       [4.9, 3. , 1.4, 0.2],\n",
              "       [6.7, 3.1, 4.4, 1.4],\n",
              "       [5. , 3.5, 1.6, 0.6],\n",
              "       [5.5, 2.4, 3.7, 1. ],\n",
              "       [5.5, 3.5, 1.3, 0.2],\n",
              "       [6.1, 3. , 4.6, 1.4],\n",
              "       [6.6, 2.9, 4.6, 1.3],\n",
              "       [6.2, 3.4, 5.4, 2.3],\n",
              "       [6.1, 2.9, 4.7, 1.4],\n",
              "       [6. , 2.2, 5. , 1.5],\n",
              "       [7.6, 3. , 6.6, 2.1],\n",
              "       [6.7, 3.3, 5.7, 2.5],\n",
              "       [6.3, 3.3, 4.7, 1.6],\n",
              "       [6.3, 3.3, 6. , 2.5],\n",
              "       [5.1, 3.8, 1.9, 0.4],\n",
              "       [6.5, 3.2, 5.1, 2. ],\n",
              "       [5.1, 3.4, 1.5, 0.2],\n",
              "       [5.8, 2.6, 4. , 1.2],\n",
              "       [5. , 3.6, 1.4, 0.2],\n",
              "       [7.1, 3. , 5.9, 2.1],\n",
              "       [6.3, 2.5, 5. , 1.9],\n",
              "       [4.7, 3.2, 1.6, 0.2],\n",
              "       [4.9, 2.5, 4.5, 1.7],\n",
              "       [5.7, 3.8, 1.7, 0.3],\n",
              "       [5. , 3.5, 1.3, 0.3],\n",
              "       [4.9, 3.1, 1.5, 0.2],\n",
              "       [5.9, 3. , 4.2, 1.5],\n",
              "       [5.6, 3. , 4.1, 1.3],\n",
              "       [5.9, 3.2, 4.8, 1.8],\n",
              "       [5.2, 3.4, 1.4, 0.2],\n",
              "       [4.9, 2.4, 3.3, 1. ],\n",
              "       [6.1, 2.8, 4. , 1.3],\n",
              "       [4.6, 3.6, 1. , 0.2],\n",
              "       [6.9, 3.1, 5.1, 2.3],\n",
              "       [5.8, 2.7, 4.1, 1. ],\n",
              "       [6.3, 2.5, 4.9, 1.5]])"
            ]
          },
          "metadata": {},
          "execution_count": 185
        }
      ]
    },
    {
      "cell_type": "code",
      "source": [
        "# now let's standarazie"
      ],
      "metadata": {
        "id": "WIrTW8G2DLIg"
      },
      "execution_count": 186,
      "outputs": []
    },
    {
      "cell_type": "code",
      "source": [
        "X_train_std"
      ],
      "metadata": {
        "colab": {
          "base_uri": "https://localhost:8080/"
        },
        "id": "hm5p-fxsDPjo",
        "outputId": "1aedfe14-acac-433c-8fc0-c5d1234e7167"
      },
      "execution_count": 187,
      "outputs": [
        {
          "output_type": "execute_result",
          "data": {
            "text/plain": [
              "array([[ 0.25698579, -0.30341292,  0.44621811,  0.38981853],\n",
              "       [-1.22834491,  0.87652623, -1.22094035, -1.31563755],\n",
              "       [-1.72345514, -0.30341292, -1.33591679, -1.31563755],\n",
              "       [-0.23812445, -0.06742509,  0.44621811,  0.38981853],\n",
              "       [ 0.75209602, -0.77538859,  0.90612389,  0.91457425],\n",
              "       [-0.48567956, -0.06742509,  0.44621811,  0.38981853],\n",
              "       [ 0.5045409 , -0.30341292,  0.33124166,  0.12744067],\n",
              "       [ 0.13320823, -0.06742509,  0.79114744,  0.78338532],\n",
              "       [-0.361902  , -1.24736425,  0.158777  ,  0.12744067],\n",
              "       [-0.11434689, -1.01137642, -0.12866412, -0.26612611],\n",
              "       [-0.361902  , -1.71933991,  0.158777  ,  0.12744067],\n",
              "       [ 0.62831846, -0.30341292,  1.07858856,  0.78338532],\n",
              "       [-0.23812445, -0.30341292, -0.07117589,  0.12744067],\n",
              "       [-0.85701224, -1.24736425, -0.41610523, -0.13493718],\n",
              "       [ 0.38076335, -1.01137642,  1.07858856,  0.2586296 ],\n",
              "       [-1.8472327 , -0.06742509, -1.50838146, -1.44682648],\n",
              "       [-0.48567956,  2.05646538, -1.16345212, -1.05325969],\n",
              "       [-0.23812445, -0.77538859,  0.27375344,  0.12744067],\n",
              "       [-1.22834491,  0.87652623, -1.04847568, -1.31563755],\n",
              "       [ 0.75209602, -0.53940076,  1.07858856,  1.17695211],\n",
              "       [-0.11434689, -0.53940076,  0.21626522,  0.12744067],\n",
              "       [ 0.87587358, -0.06742509,  1.02110034,  0.78338532],\n",
              "       [-0.11434689, -1.24736425,  0.73365922,  1.04576318],\n",
              "       [ 2.36120428, -1.01137642,  1.82593545,  1.43932997],\n",
              "       [-1.47590003,  0.16856274, -1.27842857, -1.31563755],\n",
              "       [-0.60945712,  1.58448972, -1.27842857, -1.31563755],\n",
              "       [-1.10456735,  0.16856274, -1.27842857, -1.44682648],\n",
              "       [ 1.1234287 , -0.06742509,  0.73365922,  0.65219639],\n",
              "       [-1.22834491, -0.06742509, -1.33591679, -1.44682648],\n",
              "       [-0.11434689,  3.23640453, -1.27842857, -1.05325969],\n",
              "       [ 1.24720625, -0.53940076,  0.61868278,  0.2586296 ],\n",
              "       [-0.23812445, -1.24736425,  0.10128877, -0.13493718],\n",
              "       [ 2.36120428,  1.82047755,  1.71095901,  1.30814104],\n",
              "       [-1.22834491,  0.16856274, -1.22094035, -1.31563755],\n",
              "       [-1.59967759, -1.71933991, -1.39340502, -1.18444862],\n",
              "       [-1.47590003,  0.40455057, -1.33591679, -1.31563755],\n",
              "       [ 1.24720625, -0.06742509,  1.02110034,  1.17695211],\n",
              "       [ 0.25698579, -1.95532774,  0.158777  , -0.26612611],\n",
              "       [ 0.75209602,  0.40455057,  0.44621811,  0.38981853],\n",
              "       [ 0.87587358, -0.53940076,  0.50370633,  0.38981853],\n",
              "       [ 1.9898716 , -0.53940076,  1.36602967,  0.91457425],\n",
              "       [-0.85701224,  1.82047755, -1.27842857, -1.18444862],\n",
              "       [ 1.1234287 ,  0.16856274,  1.07858856,  1.5705189 ],\n",
              "       [-0.48567956,  2.05646538, -1.39340502, -1.05325969],\n",
              "       [ 0.87587358, -0.06742509,  0.84863567,  1.04576318],\n",
              "       [ 0.00943067, -0.77538859,  0.79114744,  0.91457425],\n",
              "       [-0.23812445, -0.53940076,  0.676171  ,  1.04576318],\n",
              "       [-1.22834491, -0.06742509, -1.33591679, -1.18444862],\n",
              "       [-0.361902  , -1.48335208,  0.04380055, -0.13493718],\n",
              "       [ 0.00943067, -0.77538859,  0.79114744,  0.91457425],\n",
              "       [-0.48567956,  1.58448972, -1.27842857, -1.31563755],\n",
              "       [-0.98078979, -2.4273034 , -0.12866412, -0.26612611],\n",
              "       [-0.48567956,  0.87652623, -1.27842857, -1.05325969],\n",
              "       [-1.72345514,  0.40455057, -1.39340502, -1.31563755],\n",
              "       [-0.98078979,  0.87652623, -1.27842857, -1.31563755],\n",
              "       [ 1.37098381,  0.16856274,  0.96361211,  1.17695211],\n",
              "       [ 0.75209602, -0.53940076,  1.07858856,  1.30814104],\n",
              "       [ 0.00943067, -0.77538859,  0.10128877, -0.00374826],\n",
              "       [ 2.36120428, -0.53940076,  1.71095901,  1.04576318],\n",
              "       [ 1.49476137,  0.40455057,  0.56119455,  0.2586296 ],\n",
              "       [-0.85701224,  1.11251406, -1.33591679, -1.18444862],\n",
              "       [-0.73323468,  1.11251406, -1.27842857, -1.31563755],\n",
              "       [ 1.37098381,  0.40455057,  1.13607678,  1.43932997],\n",
              "       [ 0.62831846,  0.87652623,  1.07858856,  1.5705189 ],\n",
              "       [-1.47590003,  0.87652623, -1.33591679, -1.18444862],\n",
              "       [ 1.1234287 , -0.06742509,  0.84863567,  1.43932997],\n",
              "       [ 0.25698579, -0.06742509,  0.61868278,  0.78338532],\n",
              "       [ 0.5045409 , -0.53940076,  0.61868278,  0.78338532],\n",
              "       [ 0.87587358, -0.06742509,  1.193565  ,  1.30814104],\n",
              "       [-1.10456735, -0.06742509, -1.33591679, -1.31563755],\n",
              "       [ 1.1234287 ,  0.16856274,  0.38872989,  0.2586296 ],\n",
              "       [-0.98078979,  1.11251406, -1.22094035, -0.79088183],\n",
              "       [-0.361902  , -1.48335208, -0.01368767, -0.26612611],\n",
              "       [-0.361902  ,  1.11251406, -1.39340502, -1.31563755],\n",
              "       [ 0.38076335, -0.06742509,  0.50370633,  0.2586296 ],\n",
              "       [ 0.99965114, -0.30341292,  0.50370633,  0.12744067],\n",
              "       [ 0.5045409 ,  0.87652623,  0.96361211,  1.43932997],\n",
              "       [ 0.38076335, -0.30341292,  0.56119455,  0.2586296 ],\n",
              "       [ 0.25698579, -1.95532774,  0.73365922,  0.38981853],\n",
              "       [ 2.23742672, -0.06742509,  1.65347078,  1.17695211],\n",
              "       [ 1.1234287 ,  0.6405384 ,  1.13607678,  1.70170783],\n",
              "       [ 0.62831846,  0.6405384 ,  0.56119455,  0.52100746],\n",
              "       [ 0.62831846,  0.6405384 ,  1.30854145,  1.70170783],\n",
              "       [-0.85701224,  1.82047755, -1.04847568, -1.05325969],\n",
              "       [ 0.87587358,  0.40455057,  0.79114744,  1.04576318],\n",
              "       [-0.85701224,  0.87652623, -1.27842857, -1.31563755],\n",
              "       [ 0.00943067, -1.01137642,  0.158777  , -0.00374826],\n",
              "       [-0.98078979,  1.34850189, -1.33591679, -1.31563755],\n",
              "       [ 1.61853893, -0.06742509,  1.25105323,  1.17695211],\n",
              "       [ 0.62831846, -1.24736425,  0.73365922,  0.91457425],\n",
              "       [-1.35212247,  0.40455057, -1.22094035, -1.31563755],\n",
              "       [-1.10456735, -1.24736425,  0.44621811,  0.65219639],\n",
              "       [-0.11434689,  1.82047755, -1.16345212, -1.18444862],\n",
              "       [-0.98078979,  1.11251406, -1.39340502, -1.18444862],\n",
              "       [-1.10456735,  0.16856274, -1.27842857, -1.31563755],\n",
              "       [ 0.13320823, -0.06742509,  0.27375344,  0.38981853],\n",
              "       [-0.23812445, -0.06742509,  0.21626522,  0.12744067],\n",
              "       [ 0.13320823,  0.40455057,  0.61868278,  0.78338532],\n",
              "       [-0.73323468,  0.87652623, -1.33591679, -1.31563755],\n",
              "       [-1.10456735, -1.48335208, -0.24364056, -0.26612611],\n",
              "       [ 0.38076335, -0.53940076,  0.158777  ,  0.12744067],\n",
              "       [-1.47590003,  1.34850189, -1.56586968, -1.31563755],\n",
              "       [ 1.37098381,  0.16856274,  0.79114744,  1.43932997],\n",
              "       [ 0.00943067, -0.77538859,  0.21626522, -0.26612611],\n",
              "       [ 0.62831846, -1.24736425,  0.676171  ,  0.38981853]])"
            ]
          },
          "metadata": {},
          "execution_count": 187
        }
      ]
    },
    {
      "cell_type": "markdown",
      "source": [
        "SVM model"
      ],
      "metadata": {
        "id": "xvVRnsnHDYOF"
      }
    },
    {
      "cell_type": "code",
      "source": [
        "from sklearn.svm import SVC # support vector specifier\n",
        "from sklearn.metrics import accuracy_score\n",
        "from sklearn.metrics import confusion_matrix\n",
        "from sklearn.metrics import classification_report"
      ],
      "metadata": {
        "id": "XxVY5IGmDQvJ"
      },
      "execution_count": 188,
      "outputs": []
    },
    {
      "cell_type": "code",
      "source": [
        "svm = SVC(kernel = 'linear', random_state=58, C=100)"
      ],
      "metadata": {
        "id": "Facljxi3DdgT"
      },
      "execution_count": 189,
      "outputs": []
    },
    {
      "cell_type": "code",
      "source": [
        "svm.fit(X_train_std, y_train) # you shouldn't standarize the y"
      ],
      "metadata": {
        "colab": {
          "base_uri": "https://localhost:8080/"
        },
        "id": "VE5VYrFzD9Av",
        "outputId": "53ed1128-4238-4bdb-9d31-c5282e97d88b"
      },
      "execution_count": 190,
      "outputs": [
        {
          "output_type": "execute_result",
          "data": {
            "text/plain": [
              "SVC(C=100, kernel='linear', random_state=58)"
            ]
          },
          "metadata": {},
          "execution_count": 190
        }
      ]
    },
    {
      "cell_type": "code",
      "source": [
        "y_pred = svm.predict(X_test_std)"
      ],
      "metadata": {
        "id": "e_HNB7bWEGgw"
      },
      "execution_count": 191,
      "outputs": []
    },
    {
      "cell_type": "code",
      "source": [
        "y_pred"
      ],
      "metadata": {
        "colab": {
          "base_uri": "https://localhost:8080/"
        },
        "id": "IksvjCP8EOLn",
        "outputId": "de2d764b-10f0-46c7-a3a3-b33d47cf0cdb"
      },
      "execution_count": 192,
      "outputs": [
        {
          "output_type": "execute_result",
          "data": {
            "text/plain": [
              "array([1, 1, 2, 0, 2, 1, 1, 0, 0, 1, 1, 0, 0, 1, 0, 1, 0, 1, 2, 2, 1, 0,\n",
              "       0, 0, 0, 2, 1, 2, 1, 1, 2, 0, 2, 0, 2, 1, 1, 1, 1, 1, 0, 0, 2, 2,\n",
              "       2])"
            ]
          },
          "metadata": {},
          "execution_count": 192
        }
      ]
    },
    {
      "cell_type": "code",
      "source": [
        "acc = accuracy_score(y_test, y_pred)"
      ],
      "metadata": {
        "id": "mrpKK0HbEQZS"
      },
      "execution_count": 193,
      "outputs": []
    },
    {
      "cell_type": "code",
      "source": [
        "acc"
      ],
      "metadata": {
        "colab": {
          "base_uri": "https://localhost:8080/"
        },
        "id": "pmlZ1CeYEcqk",
        "outputId": "960663ea-d977-44cf-d792-9612376786c8"
      },
      "execution_count": 194,
      "outputs": [
        {
          "output_type": "execute_result",
          "data": {
            "text/plain": [
              "0.8888888888888888"
            ]
          },
          "metadata": {},
          "execution_count": 194
        }
      ]
    },
    {
      "cell_type": "code",
      "source": [
        "from sklearn.model_selection import cross_val_score"
      ],
      "metadata": {
        "id": "WOKC7PUHEd5O"
      },
      "execution_count": 195,
      "outputs": []
    },
    {
      "cell_type": "code",
      "source": [
        "score = cross_val_score(svm, X_train_std, y_train, cv=10, scoring = 'accuracy')"
      ],
      "metadata": {
        "id": "d83wFkQ4EqbM"
      },
      "execution_count": 196,
      "outputs": []
    },
    {
      "cell_type": "code",
      "source": [
        "score"
      ],
      "metadata": {
        "colab": {
          "base_uri": "https://localhost:8080/"
        },
        "id": "zDWQPhNVE8_R",
        "outputId": "491a019b-4206-4b75-96d0-705654293c06"
      },
      "execution_count": 197,
      "outputs": [
        {
          "output_type": "execute_result",
          "data": {
            "text/plain": [
              "array([0.90909091, 1.        , 1.        , 1.        , 1.        ,\n",
              "       1.        , 1.        , 1.        , 0.9       , 0.9       ])"
            ]
          },
          "metadata": {},
          "execution_count": 197
        }
      ]
    },
    {
      "cell_type": "code",
      "source": [
        "score.mean()"
      ],
      "metadata": {
        "colab": {
          "base_uri": "https://localhost:8080/"
        },
        "id": "rOJjDE6vE9mZ",
        "outputId": "4f5fbef9-5aad-4595-c13c-c72fe26dc649"
      },
      "execution_count": 198,
      "outputs": [
        {
          "output_type": "execute_result",
          "data": {
            "text/plain": [
              "0.9709090909090909"
            ]
          },
          "metadata": {},
          "execution_count": 198
        }
      ]
    },
    {
      "cell_type": "code",
      "source": [
        "import seaborn as sns"
      ],
      "metadata": {
        "id": "rsHRpJ7TFL8W"
      },
      "execution_count": 199,
      "outputs": []
    },
    {
      "cell_type": "code",
      "source": [
        "cm = confusion_matrix(y_test, y_pred)"
      ],
      "metadata": {
        "id": "MaiqHaYmG9yx"
      },
      "execution_count": 200,
      "outputs": []
    },
    {
      "cell_type": "code",
      "source": [
        "cm_df = pd.DataFrame(cm,\n",
        "                    index = ['Setosa', 'Versicolor', 'Verginica'],\n",
        "                    columns = ['Setosa', 'Versicolor', 'Verginica'])"
      ],
      "metadata": {
        "id": "sGD3E8kEGLbA"
      },
      "execution_count": 201,
      "outputs": []
    },
    {
      "cell_type": "code",
      "source": [
        "sns.heatmap(cm_df, annot=True)\n",
        "plt.xlabel(\"Predicted Values\")\n",
        "plt.ylabel(\"Actual Values\")\n",
        "plt.show()"
      ],
      "metadata": {
        "colab": {
          "base_uri": "https://localhost:8080/",
          "height": 279
        },
        "id": "05sRjkycGNe7",
        "outputId": "f7c5298f-7a4b-40cd-889c-50f21ffb33a4"
      },
      "execution_count": 202,
      "outputs": [
        {
          "output_type": "display_data",
          "data": {
            "text/plain": [
              "<Figure size 432x288 with 2 Axes>"
            ],
            "image/png": "[encoded data removed]"
          },
          "metadata": {
            "needs_background": "light"
          }
        }
      ]
    },
    {
      "cell_type": "code",
      "source": [],
      "metadata": {
        "id": "pPB-IlSrHOH4"
      },
      "execution_count": 202,
      "outputs": []
    }
  ]
}